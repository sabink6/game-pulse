{
 "cells": [
  {
   "cell_type": "code",
   "execution_count": 2,
   "id": "1eeb824a-aa28-4237-a744-5361f1c0090f",
   "metadata": {
    "editable": true,
    "slideshow": {
     "slide_type": ""
    },
    "tags": []
   },
   "outputs": [
    {
     "data": {
      "text/html": [
       "<div>\n",
       "<style scoped>\n",
       "    .dataframe tbody tr th:only-of-type {\n",
       "        vertical-align: middle;\n",
       "    }\n",
       "\n",
       "    .dataframe tbody tr th {\n",
       "        vertical-align: top;\n",
       "    }\n",
       "\n",
       "    .dataframe thead th {\n",
       "        text-align: right;\n",
       "    }\n",
       "</style>\n",
       "<table border=\"1\" class=\"dataframe\">\n",
       "  <thead>\n",
       "    <tr style=\"text-align: right;\">\n",
       "      <th></th>\n",
       "      <th>clean_sentence</th>\n",
       "      <th>heuristic</th>\n",
       "    </tr>\n",
       "  </thead>\n",
       "  <tbody>\n",
       "    <tr>\n",
       "      <th>0</th>\n",
       "      <td>every planet moon remarkably unique</td>\n",
       "      <td>G</td>\n",
       "    </tr>\n",
       "    <tr>\n",
       "      <th>1</th>\n",
       "      <td>simple exploration grants things encounter sce...</td>\n",
       "      <td>G</td>\n",
       "    </tr>\n",
       "    <tr>\n",
       "      <th>2</th>\n",
       "      <td>well worth buy like explore advance</td>\n",
       "      <td>G</td>\n",
       "    </tr>\n",
       "    <tr>\n",
       "      <th>3</th>\n",
       "      <td>note graphics game runs like crap 980ti even f...</td>\n",
       "      <td>U</td>\n",
       "    </tr>\n",
       "    <tr>\n",
       "      <th>4</th>\n",
       "      <td>welp foundations update seems fixed lot stuff ...</td>\n",
       "      <td>F</td>\n",
       "    </tr>\n",
       "    <tr>\n",
       "      <th>5</th>\n",
       "      <td>avatar walks snails pace sprint ten seconds re...</td>\n",
       "      <td>G</td>\n",
       "    </tr>\n",
       "    <tr>\n",
       "      <th>6</th>\n",
       "      <td>huge improvements great game</td>\n",
       "      <td>NaN</td>\n",
       "    </tr>\n",
       "    <tr>\n",
       "      <th>7</th>\n",
       "      <td>game sort goal maybe monsters bosses fight</td>\n",
       "      <td>G</td>\n",
       "    </tr>\n",
       "    <tr>\n",
       "      <th>8</th>\n",
       "      <td>next question might could game made better sure</td>\n",
       "      <td>NaN</td>\n",
       "    </tr>\n",
       "    <tr>\n",
       "      <th>9</th>\n",
       "      <td>base building lots vehicles land air sea along...</td>\n",
       "      <td>G</td>\n",
       "    </tr>\n",
       "  </tbody>\n",
       "</table>\n",
       "</div>"
      ],
      "text/plain": [
       "                                      clean_sentence heuristic\n",
       "0                every planet moon remarkably unique         G\n",
       "1  simple exploration grants things encounter sce...         G\n",
       "2                well worth buy like explore advance         G\n",
       "3  note graphics game runs like crap 980ti even f...         U\n",
       "4  welp foundations update seems fixed lot stuff ...         F\n",
       "5  avatar walks snails pace sprint ten seconds re...         G\n",
       "6                       huge improvements great game       NaN\n",
       "7         game sort goal maybe monsters bosses fight         G\n",
       "8    next question might could game made better sure       NaN\n",
       "9  base building lots vehicles land air sea along...         G"
      ]
     },
     "execution_count": 2,
     "metadata": {},
     "output_type": "execute_result"
    }
   ],
   "source": [
    "import pandas as pd\n",
    "import numpy as np\n",
    "from sklearn.model_selection import train_test_split\n",
    "from sklearn.preprocessing import StandardScaler, MultiLabelBinarizer\n",
    "from sklearn.neighbors import KNeighborsClassifier\n",
    "from sklearn.metrics import accuracy_score, classification_report\n",
    "import datetime\n",
    "\n",
    "pd.options.mode.chained_assignment = None  # default='warn'\n",
    "\n",
    "\n",
    "# Load the dataset\n",
    "file_path = \"__sprint_1_alt_no_mans_sky_labelled_steam_review_data.csv\"\n",
    "df = pd.read_csv(file_path, encoding='latin1', low_memory=False)\n",
    "\n",
    "#heuristic\n",
    "#informative\n",
    "#df.head(10)\n",
    "\n",
    "wip_df = df.drop(columns=[#'recommendationid'\n",
    "                          #,'clean_sentence'\n",
    "                          #,'tokenized_sentence'\n",
    "                          #,'voted_up'\n",
    "                          'language'\n",
    "                          ,'timestamp_created'\n",
    "                          ,'timestamp_updated'\n",
    "                          ,'votes_up'\n",
    "                          ,'votes_funny'\n",
    "                          ,'weighted_vote_score'\n",
    "                          ,'steam_purchase'\n",
    "                          ,'author_num_games_owned'\n",
    "                          ,'author_num_reviews'\n",
    "                          ,'author_playtime_forever'\n",
    "                          ,'author_last_played'\n",
    "                          #,'informative'\n",
    "                          #,'heuristic'\n",
    "                 ])\n",
    "#wip_df.head(10)\n",
    "informative_df = wip_df.drop(columns=['recommendationid', 'tokenized_sentence', 'voted_up', 'heuristic'])\n",
    "heuristic_df = wip_df.drop(columns=['recommendationid', 'tokenized_sentence', 'voted_up','informative'])\n",
    "#informative_df.head(10)\n",
    "heuristic_df.head(10)"
   ]
  },
  {
   "cell_type": "code",
   "execution_count": 3,
   "id": "6160c8c0-8c9f-4d26-be9e-0d1fa74345ba",
   "metadata": {},
   "outputs": [
    {
     "data": {
      "text/plain": [
       "Index(['recommendationid', 'clean_sentence', 'tokenized_sentence', 'voted_up',\n",
       "       'informative', 'heuristic'],\n",
       "      dtype='object')"
      ]
     },
     "execution_count": 3,
     "metadata": {},
     "output_type": "execute_result"
    }
   ],
   "source": [
    "wip_df.columns"
   ]
  },
  {
   "cell_type": "code",
   "execution_count": 4,
   "id": "a9d3c047-33f2-494f-93d7-bf064291bc67",
   "metadata": {},
   "outputs": [
    {
     "name": "stdout",
     "output_type": "stream",
     "text": [
      "Accuracy: 0.8\n",
      "Classification Report:\n",
      "               precision    recall  f1-score   support\n",
      "\n",
      "         0.0       0.82      0.80      0.81       298\n",
      "         1.0       0.78      0.80      0.79       267\n",
      "\n",
      "    accuracy                           0.80       565\n",
      "   macro avg       0.80      0.80      0.80       565\n",
      "weighted avg       0.80      0.80      0.80       565\n",
      "\n"
     ]
    }
   ],
   "source": [
    "from sklearn.feature_extraction.text import CountVectorizer\n",
    "from sklearn.naive_bayes import MultinomialNB\n",
    "\n",
    "#Playability informative Naives Bayes Classification\n",
    "\n",
    "X = informative_df[(informative_df['informative'].notnull()) & (informative_df['informative'] != '')]\n",
    "X = X.dropna()\n",
    "y = X['informative']\n",
    "X = X.drop(columns=['informative'])\n",
    "#print(X.count())\n",
    "#print(y.count())\n",
    "\n",
    "# Convert the text data to a bag-of-words representation\n",
    "vectorizer = CountVectorizer()\n",
    "texts = X['clean_sentence']\n",
    "X = vectorizer.fit_transform(texts)\n",
    "\n",
    "# Split the data into training and testing sets (80% train, 20% test)\n",
    "X_train, X_test, y_train, y_test = train_test_split(X, y, test_size=0.2, random_state=1, stratify=y)\n",
    "\n",
    "# Initialize the Naive Bayes classifier (MultinomialNB is well-suited for count data)\n",
    "classifier = MultinomialNB()\n",
    "\n",
    "# Train the classifier on the training data\n",
    "classifier.fit(X_train, y_train)\n",
    "\n",
    "# Predict the labels for the test set\n",
    "y_pred = classifier.predict(X_test)\n",
    "\n",
    "# Evaluate the classifier performance\n",
    "accuracy = accuracy_score(y_test, y_pred)\n",
    "report = classification_report(y_test, y_pred)\n",
    "\n",
    "print(\"Accuracy:\", accuracy)\n",
    "print(\"Classification Report:\\n\", report)"
   ]
  },
  {
   "cell_type": "code",
   "execution_count": 5,
   "id": "383e5f06-4da7-4a74-8127-67b584563c16",
   "metadata": {},
   "outputs": [
    {
     "name": "stdout",
     "output_type": "stream",
     "text": [
      "informative\n",
      "0.0    1527\n",
      "1.0    1332\n",
      "Name: count, dtype: int64\n",
      "515471\n"
     ]
    }
   ],
   "source": [
    "print(informative_df['informative'].value_counts())\n",
    "print(informative_df['clean_sentence'].count())"
   ]
  },
  {
   "cell_type": "code",
   "execution_count": 6,
   "id": "03fdeb47-656e-48a5-93c4-3c762127fdff",
   "metadata": {},
   "outputs": [],
   "source": [
    "#Execution started at 16:37"
   ]
  },
  {
   "cell_type": "code",
   "execution_count": 8,
   "id": "7173b664-7b2f-451b-a231-a66807992a88",
   "metadata": {},
   "outputs": [
    {
     "name": "stdout",
     "output_type": "stream",
     "text": [
      "27.Feb 2025 15:51:07\n"
     ]
    }
   ],
   "source": [
    "print(datetime.datetime.now().strftime(\"%d.%b %Y %H:%M:%S\"))"
   ]
  },
  {
   "cell_type": "code",
   "execution_count": 9,
   "id": "f42c7c74-0861-47da-88ca-af6826475897",
   "metadata": {},
   "outputs": [
    {
     "name": "stdout",
     "output_type": "stream",
     "text": [
      "informative\n",
      "0.0    1527\n",
      "1.0    1332\n",
      "Name: count, dtype: int64\n",
      "informative\n",
      "0.0    295928\n",
      "1.0    227720\n",
      "Name: count, dtype: int64\n"
     ]
    }
   ],
   "source": [
    "print(informative_df['informative'].value_counts())\n",
    "\n",
    "for row in informative_df[(informative_df['informative'].isnull()) | (informative_df['informative'] == '') ].itertuples(index=True, name='Row'):\n",
    "    #print(row)\n",
    "    #if len(row.clean_sentence):\n",
    "    vect = vectorizer.transform([str(row.clean_sentence)])\n",
    "    informative_df.loc[row.Index, 'informative'] = classifier.predict(vect)\n",
    "    #else:\n",
    "    #    informative_df.loc[row.Index, 'informative'] = 0\n",
    "\n",
    "for row in wip_df[(wip_df['informative'].isnull()) | (wip_df['informative'] == '') ].itertuples(index=True, name='Row'):\n",
    "    vect = vectorizer.transform([str(row.clean_sentence)])\n",
    "    wip_df.loc[row.Index, 'informative'] = classifier.predict(vect)\n",
    "\n",
    "print(informative_df['informative'].value_counts())"
   ]
  },
  {
   "cell_type": "code",
   "execution_count": 11,
   "id": "d17c2719-c39b-419f-a496-2aa1e7888ba2",
   "metadata": {},
   "outputs": [
    {
     "name": "stdout",
     "output_type": "stream",
     "text": [
      "27.Feb 2025 15:57:44\n"
     ]
    }
   ],
   "source": [
    "print(datetime.datetime.now().strftime(\"%d.%b %Y %H:%M:%S\"))"
   ]
  },
  {
   "cell_type": "code",
   "execution_count": 12,
   "id": "f71d75b3-670b-47b1-9dc0-513ec42159a3",
   "metadata": {},
   "outputs": [],
   "source": [
    "#informative_df[(informative_df['informative'] == 0)]['clean_sentence'].tail(50)"
   ]
  },
  {
   "cell_type": "raw",
   "id": "cdd0271f-8007-4036-b3eb-ee1d6a608f1e",
   "metadata": {},
   "source": [
    "informative_df.to_csv('__sprint1_filtered_labelled_dataset.csv')"
   ]
  },
  {
   "cell_type": "code",
   "execution_count": 13,
   "id": "2d39a0e8-c187-41be-a137-8d1fc2d05091",
   "metadata": {},
   "outputs": [
    {
     "name": "stdout",
     "output_type": "stream",
     "text": [
      "27.Feb 2025 15:57:44\n"
     ]
    }
   ],
   "source": [
    "print(datetime.datetime.now().strftime(\"%d.%b %Y %H:%M:%S\"))"
   ]
  },
  {
   "cell_type": "code",
   "execution_count": 14,
   "id": "b9059874-3497-494f-90fd-3325ff345d4e",
   "metadata": {},
   "outputs": [
    {
     "data": {
      "text/plain": [
       "heuristic\n",
       "[U]          320\n",
       "[G]          278\n",
       "[F]          272\n",
       "[G, U]        62\n",
       "[F, U]        28\n",
       "[G, F]        22\n",
       "[U, F]        10\n",
       "[F, G, U]      6\n",
       "[G, F, U]      5\n",
       "[F, G]         4\n",
       "[U, G]         4\n",
       "[G, U, F]      1\n",
       "[F, U, G]      1\n",
       "[U, G, F]      1\n",
       "Name: count, dtype: int64"
      ]
     },
     "execution_count": 14,
     "metadata": {},
     "output_type": "execute_result"
    }
   ],
   "source": [
    "heuristic_df.head(20)\n",
    "# 'heuristic'\n",
    "heuristic_training = heuristic_df.loc[(heuristic_df['heuristic'].notnull()) & (heuristic_df['heuristic'] != '')]\n",
    "\n",
    "#Tidy up the label values\n",
    "for row in heuristic_training.itertuples(index=True, name='Row'):\n",
    "    heuristic_training.loc[row.Index, 'heuristic'] = str(heuristic_training.loc[row.Index, 'heuristic']).replace('\"','').replace(\"'\",'').replace(' ','').replace('[','').replace(']','').split(',')\n",
    "\n",
    "\n",
    "\n",
    "heuristic_training.dropna(how='any')\n",
    "heuristic_training.describe()\n",
    "\n",
    "#heuristic_training.head(20)\n",
    "heuristic_training['heuristic'].value_counts()"
   ]
  },
  {
   "cell_type": "code",
   "execution_count": 15,
   "id": "c99b116b-50dd-448e-a2bf-6a2d08717277",
   "metadata": {},
   "outputs": [
    {
     "name": "stdout",
     "output_type": "stream",
     "text": [
      "27.Feb 2025 15:57:45\n"
     ]
    }
   ],
   "source": [
    "print(datetime.datetime.now().strftime(\"%d.%b %Y %H:%M:%S\"))"
   ]
  },
  {
   "cell_type": "code",
   "execution_count": 16,
   "id": "ccc9bc77-65dd-467a-91bb-ef4946f1f7e1",
   "metadata": {},
   "outputs": [
    {
     "name": "stdout",
     "output_type": "stream",
     "text": [
      "1014\n"
     ]
    }
   ],
   "source": [
    "print(len(heuristic_training))"
   ]
  },
  {
   "cell_type": "code",
   "execution_count": null,
   "id": "251e7b3b-abd8-489b-8f65-ea2fc42e188b",
   "metadata": {},
   "outputs": [],
   "source": []
  },
  {
   "cell_type": "raw",
   "id": "a72ae6b4-7094-4f68-9658-dac5c191eb9b",
   "metadata": {},
   "source": [
    "from sklearn.feature_extraction.text import TfidfVectorizer\n",
    "from sklearn.multiclass import OneVsRestClassifier\n",
    "\n",
    "# Encode multi-labels\n",
    "mlb = MultiLabelBinarizer()\n",
    "label_matrix = mlb.fit_transform( str(heuristic_training['heuristic']).replace(\" \",\"\").split(\",\") )\n",
    "\n",
    "# Convert text data into numerical features using TF-IDF\n",
    "vectorizer = TfidfVectorizer()\n",
    "X_tfidf = vectorizer.fit_transform(heuristic_training['clean_sentence'])\n",
    "\n"
   ]
  },
  {
   "cell_type": "code",
   "execution_count": 17,
   "id": "77090abb-2017-4580-bc1d-100ca3843112",
   "metadata": {},
   "outputs": [],
   "source": [
    "from sklearn.feature_extraction.text import TfidfVectorizer\n",
    "from sklearn.multiclass import OneVsRestClassifier\n",
    "\n",
    "# Encode multi-labels\n",
    "mlb = MultiLabelBinarizer()\n",
    "label_matrix = mlb.fit_transform(heuristic_training['heuristic'])\n",
    "\n",
    "# Convert text data into numerical features using TF-IDF\n",
    "vectorizer = TfidfVectorizer()\n",
    "X_tfidf = vectorizer.fit_transform(heuristic_training['clean_sentence'])\n",
    "\n"
   ]
  },
  {
   "cell_type": "code",
   "execution_count": 18,
   "id": "82a0ad99-f218-4fc0-8288-a9a011ea1165",
   "metadata": {},
   "outputs": [
    {
     "data": {
      "text/plain": [
       "heuristic\n",
       "[U]          320\n",
       "[G]          278\n",
       "[F]          272\n",
       "[G, U]        62\n",
       "[F, U]        28\n",
       "[G, F]        22\n",
       "[U, F]        10\n",
       "[F, G, U]      6\n",
       "[G, F, U]      5\n",
       "[F, G]         4\n",
       "[U, G]         4\n",
       "[G, U, F]      1\n",
       "[F, U, G]      1\n",
       "[U, G, F]      1\n",
       "Name: count, dtype: int64"
      ]
     },
     "execution_count": 18,
     "metadata": {},
     "output_type": "execute_result"
    }
   ],
   "source": [
    "heuristic_training['heuristic'].value_counts()"
   ]
  },
  {
   "cell_type": "code",
   "execution_count": 19,
   "id": "9f207681-3df4-4f3c-ad28-8f3f172565f6",
   "metadata": {},
   "outputs": [
    {
     "data": {
      "text/plain": [
       "1014"
      ]
     },
     "execution_count": 19,
     "metadata": {},
     "output_type": "execute_result"
    }
   ],
   "source": [
    "len(heuristic_training)"
   ]
  },
  {
   "cell_type": "code",
   "execution_count": 20,
   "id": "0fab7ecc-f4b9-49e6-8cb1-d507ee1bc5d7",
   "metadata": {},
   "outputs": [
    {
     "data": {
      "text/plain": [
       "array([[0, 1, 0],\n",
       "       [0, 1, 0],\n",
       "       [0, 1, 0],\n",
       "       ...,\n",
       "       [0, 0, 1],\n",
       "       [0, 0, 1],\n",
       "       [0, 0, 1]])"
      ]
     },
     "execution_count": 20,
     "metadata": {},
     "output_type": "execute_result"
    }
   ],
   "source": [
    "label_matrix"
   ]
  },
  {
   "cell_type": "code",
   "execution_count": 21,
   "id": "cd3851e2-b035-4acc-ab74-1e3a36fd4060",
   "metadata": {},
   "outputs": [
    {
     "data": {
      "text/plain": [
       "[('F', 'G', 'U')]"
      ]
     },
     "execution_count": 21,
     "metadata": {},
     "output_type": "execute_result"
    }
   ],
   "source": [
    "mlb.inverse_transform(np.array([[1, 1, 1]]))"
   ]
  },
  {
   "cell_type": "code",
   "execution_count": 23,
   "id": "fb496849-18bc-4e11-a184-13e2a541b77a",
   "metadata": {},
   "outputs": [
    {
     "data": {
      "text/plain": [
       "array(['F', 'G', 'U'], dtype=object)"
      ]
     },
     "execution_count": 23,
     "metadata": {},
     "output_type": "execute_result"
    }
   ],
   "source": [
    "mlb.classes_"
   ]
  },
  {
   "cell_type": "code",
   "execution_count": 24,
   "id": "606ced6b-00e9-41ea-beb0-15fb6b19d471",
   "metadata": {},
   "outputs": [
    {
     "name": "stdout",
     "output_type": "stream",
     "text": [
      "k=3: Average Micro F1-score across all folds: 0.6859\n",
      "k=4: Average Micro F1-score across all folds: 0.6558\n",
      "k=5: Average Micro F1-score across all folds: 0.6696\n",
      "k=6: Average Micro F1-score across all folds: 0.6687\n",
      "k=7: Average Micro F1-score across all folds: 0.6783\n",
      "k=8: Average Micro F1-score across all folds: 0.6759\n",
      "k=9: Average Micro F1-score across all folds: 0.6815\n",
      "k=10: Average Micro F1-score across all folds: 0.6809\n",
      "k=11: Average Micro F1-score across all folds: 0.6852\n",
      "k=12: Average Micro F1-score across all folds: 0.6852\n",
      "k=13: Average Micro F1-score across all folds: 0.6881\n",
      "k=14: Average Micro F1-score across all folds: 0.6884\n",
      "k=15: Average Micro F1-score across all folds: 0.6906\n",
      "k=16: Average Micro F1-score across all folds: 0.6907\n",
      "k=17: Average Micro F1-score across all folds: 0.6923\n",
      "k=18: Average Micro F1-score across all folds: 0.6926\n",
      "k=19: Average Micro F1-score across all folds: 0.6944\n"
     ]
    }
   ],
   "source": [
    "from sklearn.model_selection import KFold\n",
    "from sklearn.metrics import f1_score\n",
    "# Define cross-validation strategy (5-fold)\n",
    "kf = KFold(n_splits=5, shuffle=True, random_state=1)\n",
    "\n",
    "# Store F1 scores for each fold\n",
    "f1_scores = []\n",
    "\n",
    "for k in range(3, 20):\n",
    "    # Perform cross-validation\n",
    "    for fold, (train_index, test_index) in enumerate(kf.split(X_tfidf)):\n",
    "        # Split data into training and testing sets\n",
    "        X_train, X_test = X_tfidf[train_index], X_tfidf[test_index]\n",
    "        y_train, y_test = label_matrix[train_index], label_matrix[test_index]\n",
    "    \n",
    "        # Train Binary Relevance model with KNN\n",
    "        br_knn = OneVsRestClassifier(KNeighborsClassifier(n_neighbors=k))\n",
    "        br_knn.fit(X_train, y_train)\n",
    "    \n",
    "        # Predict on test data\n",
    "        y_pred = br_knn.predict(X_test)\n",
    "    \n",
    "        # Compute micro-average F1-score for multi-label classification\n",
    "        f1 = f1_score(y_test, y_pred, average=\"micro\", zero_division=0)\n",
    "        f1_scores.append(f1)\n",
    "    \n",
    "        #print(f\"k={k}: Fold {fold+1} - Micro F1-score: {f1:.4f}\")\n",
    "\n",
    "    # Compute average F1-score across all folds\n",
    "    avg_f1_score = np.mean(f1_scores)\n",
    "    print(f\"k={k}: Average Micro F1-score across all folds: {avg_f1_score:.4f}\")"
   ]
  },
  {
   "cell_type": "code",
   "execution_count": 25,
   "id": "614ecbcf-f030-4c18-b269-a762c2bf05b2",
   "metadata": {},
   "outputs": [
    {
     "name": "stdout",
     "output_type": "stream",
     "text": [
      "Classification Report:\n",
      "               precision    recall  f1-score   support\n",
      "\n",
      "           F       0.80      0.72      0.76        72\n",
      "           G       0.77      0.58      0.66        79\n",
      "           U       0.72      0.70      0.71        82\n",
      "\n",
      "   micro avg       0.76      0.67      0.71       233\n",
      "   macro avg       0.76      0.67      0.71       233\n",
      "weighted avg       0.76      0.67      0.71       233\n",
      " samples avg       0.72      0.69      0.69       233\n",
      "\n",
      "\n",
      "Predicted Labels:\n",
      " [('F',), ('F',), ('U',), ('U',), ('G',), ('G', 'U'), ('F',), ('G',), ('G',), (), ('F',), ('F',), ('G',), ('F',), ('F',), ('G',), ('U',), ('U',), ('F',), ('U',), ('U',), ('G',), ('F',), ('G',), ('U',), ('G',), ('U',), ('F',), ('F',), ('F',), ('F',), ('F',), ('F',), ('G',), ('G',), (), ('U',), ('G',), ('G', 'U'), ('F',), ('U',), ('G',), ('G',), (), ('F', 'G'), ('U',), ('U',), ('G',), ('F',), ('U',), ('F',), ('U',), ('U',), ('U',), ('F',), ('F',), ('U',), ('F',), ('F', 'U'), ('G',), ('G',), (), ('U',), ('G',), ('U',), ('U',), ('U',), ('U',), ('F',), ('U',), ('U',), ('G', 'U'), ('F',), ('U',), ('U',), ('F',), ('U',), ('G',), ('F',), ('F',), ('G',), ('G',), ('G',), ('G',), ('G',), ('G',), ('F',), ('F',), ('F',), ('U',), ('G', 'U'), ('G',), ('U',), ('U',), ('U',), ('U',), ('G',), ('F',), (), ('F',), ('U',), ('F', 'U'), ('F', 'G'), ('U',), ('U',), ('F',), (), ('F',), ('U',), ('G',), ('F',), ('G',), ('U',), ('G',), ('G',), ('U',), ('G',), ('F', 'U'), ('G',), ('U',), ('G',), ('U',), ('F',), ('F', 'G'), ('F', 'G'), ('G',), ('U',), ('F',), ('U',), ('U',), ('G',), ('U',), ('F',), ('G',), ('F',), ('U',), ('G',), ('F',), ('U',), ('U',), ('G',), ('F', 'G'), ('F',), ('U',), ('U',), (), (), ('U',), ('F',), ('U',), ('F',), ('F',), ('F', 'G'), ('U',), ('G',), ('G',), (), ('U',), ('G', 'U'), ('U',), ('F',), ('U',), (), ('F',), ('F',), ('U',), ('U',), ('F',), ('U',), ('F',), ('U',), ('G',), ('F',), ('G',), ('G',), ('F',), (), ('G',), ('G',), (), ('G',), ('U',), ('G',), ('U',), ('F',), ('U',), ('U',), ('U',), ('F',), ('G',), ('U',), ('F',), ('F',), ('U',), ('F',), (), ('U',), ('U',), ('G',), ('U',), ('U',), ('F',), ('U',)]\n"
     ]
    }
   ],
   "source": [
    "#Train the model after identifying the best k=3\n",
    "# Split data into training and testing sets\n",
    "X_train, X_test, y_train, y_test = train_test_split(\n",
    "    X_tfidf, label_matrix, test_size=0.2, random_state=1\n",
    ")\n",
    "\n",
    "# Train Binary Relevance model with KNN\n",
    "br_knn = OneVsRestClassifier(KNeighborsClassifier(n_neighbors=3))\n",
    "br_knn.fit(X_train, y_train)\n",
    "\n",
    "# Predict on test data\n",
    "y_pred = br_knn.predict(X_test)\n",
    "\n",
    "# Evaluate model performance\n",
    "print(\"Classification Report:\\n\", classification_report(y_test, y_pred, target_names=mlb.classes_, zero_division=0))\n",
    "\n",
    "# Convert predictions back to label format\n",
    "y_pred_labels = mlb.inverse_transform(y_pred)\n",
    "print(\"\\nPredicted Labels:\\n\", y_pred_labels)"
   ]
  },
  {
   "cell_type": "code",
   "execution_count": 26,
   "id": "0e53876c-aab2-4c58-89d2-640ba16ae2c0",
   "metadata": {},
   "outputs": [
    {
     "data": {
      "text/html": [
       "<div>\n",
       "<style scoped>\n",
       "    .dataframe tbody tr th:only-of-type {\n",
       "        vertical-align: middle;\n",
       "    }\n",
       "\n",
       "    .dataframe tbody tr th {\n",
       "        vertical-align: top;\n",
       "    }\n",
       "\n",
       "    .dataframe thead th {\n",
       "        text-align: right;\n",
       "    }\n",
       "</style>\n",
       "<table border=\"1\" class=\"dataframe\">\n",
       "  <thead>\n",
       "    <tr style=\"text-align: right;\">\n",
       "      <th></th>\n",
       "      <th>clean_sentence</th>\n",
       "      <th>informative</th>\n",
       "    </tr>\n",
       "  </thead>\n",
       "  <tbody>\n",
       "    <tr>\n",
       "      <th>523638</th>\n",
       "      <td>sometimes trade sell things offer buy visiting...</td>\n",
       "      <td>1.0</td>\n",
       "    </tr>\n",
       "    <tr>\n",
       "      <th>523639</th>\n",
       "      <td>trust know software engineer</td>\n",
       "      <td>0.0</td>\n",
       "    </tr>\n",
       "    <tr>\n",
       "      <th>523640</th>\n",
       "      <td>recharging hyperdrive probably biggest challen...</td>\n",
       "      <td>1.0</td>\n",
       "    </tr>\n",
       "    <tr>\n",
       "      <th>523641</th>\n",
       "      <td>good game</td>\n",
       "      <td>0.0</td>\n",
       "    </tr>\n",
       "    <tr>\n",
       "      <th>523642</th>\n",
       "      <td>would love play game unless enjoy staring load...</td>\n",
       "      <td>1.0</td>\n",
       "    </tr>\n",
       "    <tr>\n",
       "      <th>523643</th>\n",
       "      <td>homogenous resource availability</td>\n",
       "      <td>1.0</td>\n",
       "    </tr>\n",
       "    <tr>\n",
       "      <th>523644</th>\n",
       "      <td>yep got screwed</td>\n",
       "      <td>0.0</td>\n",
       "    </tr>\n",
       "    <tr>\n",
       "      <th>523645</th>\n",
       "      <td>please fix happy work done hello games also ch...</td>\n",
       "      <td>0.0</td>\n",
       "    </tr>\n",
       "    <tr>\n",
       "      <th>523646</th>\n",
       "      <td>NaN</td>\n",
       "      <td>0.0</td>\n",
       "    </tr>\n",
       "    <tr>\n",
       "      <th>523647</th>\n",
       "      <td>list features leave original release mere shad...</td>\n",
       "      <td>0.0</td>\n",
       "    </tr>\n",
       "  </tbody>\n",
       "</table>\n",
       "</div>"
      ],
      "text/plain": [
       "                                           clean_sentence  informative\n",
       "523638  sometimes trade sell things offer buy visiting...          1.0\n",
       "523639                       trust know software engineer          0.0\n",
       "523640  recharging hyperdrive probably biggest challen...          1.0\n",
       "523641                                          good game          0.0\n",
       "523642  would love play game unless enjoy staring load...          1.0\n",
       "523643                   homogenous resource availability          1.0\n",
       "523644                                    yep got screwed          0.0\n",
       "523645  please fix happy work done hello games also ch...          0.0\n",
       "523646                                                NaN          0.0\n",
       "523647  list features leave original release mere shad...          0.0"
      ]
     },
     "execution_count": 26,
     "metadata": {},
     "output_type": "execute_result"
    }
   ],
   "source": [
    "informative_df.tail(10)"
   ]
  },
  {
   "cell_type": "markdown",
   "id": "9d8f9aaf-0a08-47e3-9ece-4258c5e25742",
   "metadata": {},
   "source": [
    "\n",
    "#Tidy up the label values\n",
    "for row in wip_df.itertuples(index=True, name='Row'):\n",
    "    \n",
    "    tempVal = wip_df.loc[row.Index, 'heuristic']\n",
    "    print(tempVal)\n",
    "    if type(tempVal) is list:\n",
    "        asd=0 #Do nothing\n",
    "    elif type(tempVal) is float:\n",
    "        wip_df.loc[row.Index, 'heuristic'] = []\n",
    "    elif type(tempVal) is str:\n",
    "        wip_df.loc[row.Index, 'heuristic'] = []\n",
    "    elif len(tempVal)==0:\n",
    "        wip_df.loc[row.Index, 'heuristic'] = []\n",
    "    elif tempVal.isnull():\n",
    "        wip_df.loc[row.Index, 'heuristic'] = []\n",
    "    else:\n",
    "        wip_df.loc[row.Index, 'heuristic'] = list(str(tempVal).replace(',','').replace(\"'\",'').replace(' ',''))\n",
    "    \n",
    "    "
   ]
  },
  {
   "cell_type": "code",
   "execution_count": 29,
   "id": "c1b07ea3-5a6f-4cae-8697-446ca9113db5",
   "metadata": {},
   "outputs": [
    {
     "name": "stdout",
     "output_type": "stream",
     "text": [
      "27.Feb 2025 15:57:46\n"
     ]
    }
   ],
   "source": [
    "print(datetime.datetime.now().strftime(\"%d.%b %Y %H:%M:%S\"))"
   ]
  },
  {
   "cell_type": "code",
   "execution_count": 30,
   "id": "44c9321c-c15f-467e-a8c1-02ab1494136d",
   "metadata": {},
   "outputs": [
    {
     "name": "stdout",
     "output_type": "stream",
     "text": [
      "523648\n"
     ]
    },
    {
     "data": {
      "text/plain": [
       "heuristic\n",
       "[U]          320\n",
       "[G]          278\n",
       "[F]          272\n",
       "[G, U]        62\n",
       "[F, U]        28\n",
       "[G, F]        22\n",
       "[U, F]        10\n",
       "[F, G, U]      6\n",
       "[G, F, U]      5\n",
       "[F, G]         4\n",
       "[U, G]         4\n",
       "[G, U, F]      1\n",
       "[F, U, G]      1\n",
       "[U, G, F]      1\n",
       "Name: count, dtype: int64"
      ]
     },
     "execution_count": 30,
     "metadata": {},
     "output_type": "execute_result"
    }
   ],
   "source": [
    "pd.options.mode.chained_assignment = None  # default='warn'\n",
    "\n",
    "import warnings\n",
    "warnings.simplefilter(action='ignore', category=FutureWarning)\n",
    "\n",
    "print(len(wip_df['heuristic']))\n",
    "for row in wip_df.itertuples(index=True, name='Row'):\n",
    "    #print(row.Index)\n",
    "    #print(wip_df['heuristic'][row.Index] )\n",
    "    if type(wip_df['heuristic'][row.Index]) is str:\n",
    "        tempVal = list(str(wip_df['heuristic'][row.Index]).replace(',','').replace(\"'\",'').replace(' ',''))\n",
    "        if len(tempVal)==0:\n",
    "            asd = 0\n",
    "            #wip_df['heuristic'][row.Index] = []\n",
    "        else:\n",
    "            #wip_df.loc[row.Index, 'heuristic'] = tempVal\n",
    "            wip_df['heuristic'][row.Index] = tempVal\n",
    "    #elif type(wip_df['heuristic'][row.Index]) is list:\n",
    "        #Do nothing\n",
    "        #asd=0\n",
    "    #elif type(wip_df['heuristic'][row.Index]) is float:\n",
    "        #Do nothing\n",
    "        #asd=0\n",
    "        #wip_df['heuristic'][row.Index] = []\n",
    "    #elif wip_df['heuristic'][row.Index].isnull() or wip_df['heuristic'][row.Index] == '':\n",
    "        #wip_df['heuristic'][row.Index] = []\n",
    "    #else:\n",
    "        #wip_df['heuristic'][row.Index] = []\n",
    "\n",
    "\n",
    "wip_df['heuristic'].value_counts()"
   ]
  },
  {
   "cell_type": "code",
   "execution_count": 33,
   "id": "018d2413-fd55-49a3-b6db-0e8b63ec4149",
   "metadata": {},
   "outputs": [
    {
     "data": {
      "text/plain": [
       "informative\n",
       "0.0    295928\n",
       "1.0    227720\n",
       "Name: count, dtype: int64"
      ]
     },
     "execution_count": 33,
     "metadata": {},
     "output_type": "execute_result"
    }
   ],
   "source": [
    "wip_df['informative'].value_counts()"
   ]
  },
  {
   "cell_type": "code",
   "execution_count": 32,
   "id": "74feac54-a9e0-49c3-bb2d-22641a4f3276",
   "metadata": {},
   "outputs": [
    {
     "name": "stdout",
     "output_type": "stream",
     "text": [
      "27.Feb 2025 15:57:54\n"
     ]
    }
   ],
   "source": [
    "print(datetime.datetime.now().strftime(\"%d.%b %Y %H:%M:%S\"))"
   ]
  },
  {
   "cell_type": "code",
   "execution_count": 34,
   "id": "611a1fd2-122b-4461-b5f4-4477d70ab94b",
   "metadata": {},
   "outputs": [],
   "source": [
    "backup = wip_df"
   ]
  },
  {
   "cell_type": "code",
   "execution_count": 35,
   "id": "c09bc748-5a88-41d7-8d24-a29c7c4ae371",
   "metadata": {},
   "outputs": [
    {
     "name": "stdout",
     "output_type": "stream",
     "text": [
      "27.Feb 2025 15:57:54\n"
     ]
    }
   ],
   "source": [
    "print(datetime.datetime.now().strftime(\"%d.%b %Y %H:%M:%S\"))"
   ]
  },
  {
   "cell_type": "code",
   "execution_count": 36,
   "id": "2bce2583-48c4-4948-8b21-8c1145d12c0c",
   "metadata": {
    "editable": true,
    "slideshow": {
     "slide_type": ""
    },
    "tags": []
   },
   "outputs": [],
   "source": [
    "\n",
    "\n",
    "#for row in wip_df[(wip_df['informative'] == 1) & (wip_df['heuristic'].isnull()) ].itertuples(index=True, name='Row'):\n",
    "for row in wip_df[(wip_df['informative'] == 1) ].itertuples(index=True, name='Row'):\n",
    "    vect1 = vectorizer.transform([str(row.clean_sentence)])\n",
    "    #print(wip_df[(wip_df['informative'] == 1) & (wip_df['heuristic'].isnull()) ].loc[row.Index, 'heuristic'])\n",
    "    #print(br_knn.predict(vect1))\n",
    "    #print(mlb.inverse_transform(br_knn.predict(vect1)))\n",
    "    #print(row.Index)\n",
    "    wip_df['heuristic'][row.Index] = mlb.inverse_transform(br_knn.predict(vect1))\n",
    "    \n",
    "\n",
    "\n"
   ]
  },
  {
   "cell_type": "code",
   "execution_count": 37,
   "id": "6347086a-6bcb-4865-90c3-d94fd52263c9",
   "metadata": {},
   "outputs": [
    {
     "name": "stdout",
     "output_type": "stream",
     "text": [
      "27.Feb 2025 16:23:58\n"
     ]
    }
   ],
   "source": [
    "\n",
    "print(datetime.datetime.now().strftime(\"%d.%b %Y %H:%M:%S\"))"
   ]
  },
  {
   "cell_type": "code",
   "execution_count": 38,
   "id": "f7199655-6886-4422-abe5-44e0c1b92f1d",
   "metadata": {},
   "outputs": [
    {
     "data": {
      "text/plain": [
       "heuristic\n",
       "[(G,)]         102342\n",
       "[(U,)]          49969\n",
       "[(F,)]          36936\n",
       "[()]            19088\n",
       "[(G, U)]        11484\n",
       "[(F, G)]         4436\n",
       "[(F, U)]         3005\n",
       "[(F, G, U)]       460\n",
       "[F]                21\n",
       "[U]                19\n",
       "[G, U]              6\n",
       "[F, U]              2\n",
       "[G]                 2\n",
       "[F, G, U]           1\n",
       "[U, F]              1\n",
       "[G, F]              1\n",
       "Name: count, dtype: int64"
      ]
     },
     "execution_count": 38,
     "metadata": {},
     "output_type": "execute_result"
    }
   ],
   "source": [
    "wip_df['heuristic'].value_counts()"
   ]
  },
  {
   "cell_type": "code",
   "execution_count": 39,
   "id": "0ae10523-9957-495f-b8df-36635e5becfc",
   "metadata": {},
   "outputs": [
    {
     "data": {
      "text/plain": [
       "informative\n",
       "0.0    295928\n",
       "1.0    227720\n",
       "Name: count, dtype: int64"
      ]
     },
     "execution_count": 39,
     "metadata": {},
     "output_type": "execute_result"
    }
   ],
   "source": [
    "wip_df['informative'].value_counts()"
   ]
  },
  {
   "cell_type": "code",
   "execution_count": 40,
   "id": "10cbd04d-0edd-4e23-a9e0-5f5134c3ff30",
   "metadata": {},
   "outputs": [
    {
     "data": {
      "text/plain": [
       "array(['F', 'G', 'U'], dtype=object)"
      ]
     },
     "execution_count": 40,
     "metadata": {},
     "output_type": "execute_result"
    }
   ],
   "source": [
    "mlb.classes_"
   ]
  },
  {
   "cell_type": "code",
   "execution_count": 45,
   "id": "053aa8f8-8337-4461-829d-75e37176c4b4",
   "metadata": {},
   "outputs": [
    {
     "data": {
      "text/plain": [
       "heuristic\n",
       "[(G,)]         102342\n",
       "[(U,)]          49969\n",
       "[(F,)]          36936\n",
       "[()]            19088\n",
       "[(G, U)]        11484\n",
       "[(F, G)]         4436\n",
       "[(F, U)]         3005\n",
       "[(F, G, U)]       460\n",
       "[F]                21\n",
       "[U]                19\n",
       "[G, U]              6\n",
       "[F, U]              2\n",
       "[G]                 2\n",
       "[F, G, U]           1\n",
       "[U, F]              1\n",
       "[G, F]              1\n",
       "Name: count, dtype: int64"
      ]
     },
     "execution_count": 45,
     "metadata": {},
     "output_type": "execute_result"
    }
   ],
   "source": [
    "wip_df['heuristic'].value_counts()"
   ]
  },
  {
   "cell_type": "code",
   "execution_count": 113,
   "id": "c28c0c8f-bbaf-4e7d-ab2a-d4889c5a0bda",
   "metadata": {},
   "outputs": [],
   "source": [
    "# making boolean series for a team name\n",
    "#g_filter = 'G' in  wip_df['heuristic']\n",
    "\n",
    "tuple_df = wip_df[wip_df['heuristic'].apply(lambda x: isinstance(x, list))]\n",
    "\n",
    "g_set = tuple_df[tuple_df['heuristic'].apply(lambda x: 'G' in x[0])]\n",
    "u_set = tuple_df[tuple_df['heuristic'].apply(lambda x: 'U' in x[0])]\n",
    "f_set = tuple_df[tuple_df['heuristic'].apply(lambda x: 'F' in x[0])]\n",
    "\n",
    "#g_set['heuristic'].value_counts()\n",
    "\n",
    "# filtering data\n",
    "#g_set = wip_df.where(g_filter)\n",
    "\n"
   ]
  },
  {
   "cell_type": "code",
   "execution_count": 117,
   "id": "c1212f22-0ff7-4750-b87e-f5beefc5b718",
   "metadata": {},
   "outputs": [
    {
     "data": {
      "text/plain": [
       "heuristic\n",
       "[(G,)]         102342\n",
       "[(G, U)]        11484\n",
       "[(F, G)]         4436\n",
       "[(F, G, U)]       460\n",
       "[G, U]              6\n",
       "[G]                 2\n",
       "[G, F]              1\n",
       "Name: count, dtype: int64"
      ]
     },
     "execution_count": 117,
     "metadata": {},
     "output_type": "execute_result"
    }
   ],
   "source": [
    "g_set['heuristic'].value_counts()"
   ]
  },
  {
   "cell_type": "code",
   "execution_count": 119,
   "id": "647a766d-51d4-4641-936d-a4d431520052",
   "metadata": {},
   "outputs": [
    {
     "data": {
      "text/plain": [
       "heuristic\n",
       "[(U,)]         49969\n",
       "[(G, U)]       11484\n",
       "[(F, U)]        3005\n",
       "[(F, G, U)]      460\n",
       "[U]               19\n",
       "[U, F]             1\n",
       "Name: count, dtype: int64"
      ]
     },
     "execution_count": 119,
     "metadata": {},
     "output_type": "execute_result"
    }
   ],
   "source": [
    "u_set['heuristic'].value_counts()"
   ]
  },
  {
   "cell_type": "code",
   "execution_count": 121,
   "id": "e743c5b0-2e76-47a5-873d-11572099eabf",
   "metadata": {},
   "outputs": [
    {
     "data": {
      "text/plain": [
       "heuristic\n",
       "[(F,)]         36936\n",
       "[(F, G)]        4436\n",
       "[(F, U)]        3005\n",
       "[(F, G, U)]      460\n",
       "[F]               21\n",
       "[F, U]             2\n",
       "[F, G, U]          1\n",
       "Name: count, dtype: int64"
      ]
     },
     "execution_count": 121,
     "metadata": {},
     "output_type": "execute_result"
    }
   ],
   "source": [
    "f_set['heuristic'].value_counts()"
   ]
  },
  {
   "cell_type": "code",
   "execution_count": 135,
   "id": "3d077998-c1fc-42e9-a304-6da472973023",
   "metadata": {},
   "outputs": [],
   "source": [
    "g_set.to_csv('__sprint1_filtered_gameplay_review_set.csv')\n",
    "f_set.to_csv('__sprint1_filtered_functionality_review_set.csv')\n",
    "u_set.to_csv('__sprint1_filtered_usability_review_set.csv')"
   ]
  },
  {
   "cell_type": "code",
   "execution_count": null,
   "id": "62ca6037-78cf-467e-9908-e2a1003132b7",
   "metadata": {},
   "outputs": [],
   "source": []
  }
 ],
 "metadata": {
  "kernelspec": {
   "display_name": "Python [conda env:base] *",
   "language": "python",
   "name": "conda-base-py"
  },
  "language_info": {
   "codemirror_mode": {
    "name": "ipython",
    "version": 3
   },
   "file_extension": ".py",
   "mimetype": "text/x-python",
   "name": "python",
   "nbconvert_exporter": "python",
   "pygments_lexer": "ipython3",
   "version": "3.12.7"
  }
 },
 "nbformat": 4,
 "nbformat_minor": 5
}
