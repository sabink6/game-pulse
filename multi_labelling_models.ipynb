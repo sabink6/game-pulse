{
 "cells": [
  {
   "cell_type": "code",
   "execution_count": 125,
   "id": "1eeb824a-aa28-4237-a744-5361f1c0090f",
   "metadata": {
    "editable": true,
    "slideshow": {
     "slide_type": ""
    },
    "tags": []
   },
   "outputs": [
    {
     "data": {
      "text/html": [
       "<div>\n",
       "<style scoped>\n",
       "    .dataframe tbody tr th:only-of-type {\n",
       "        vertical-align: middle;\n",
       "    }\n",
       "\n",
       "    .dataframe tbody tr th {\n",
       "        vertical-align: top;\n",
       "    }\n",
       "\n",
       "    .dataframe thead th {\n",
       "        text-align: right;\n",
       "    }\n",
       "</style>\n",
       "<table border=\"1\" class=\"dataframe\">\n",
       "  <thead>\n",
       "    <tr style=\"text-align: right;\">\n",
       "      <th></th>\n",
       "      <th>recommendationid</th>\n",
       "      <th>clean_sentence</th>\n",
       "      <th>tokenized_sentence</th>\n",
       "      <th>voted_up</th>\n",
       "      <th>order</th>\n",
       "      <th>informative</th>\n",
       "      <th>heuristic</th>\n",
       "    </tr>\n",
       "  </thead>\n",
       "  <tbody>\n",
       "    <tr>\n",
       "      <th>0</th>\n",
       "      <td>24845425</td>\n",
       "      <td>yeah gr8 db8 ir8 st8 hey apreci8 gr8 wan mayb ...</td>\n",
       "      <td>yeah m8 this is gr8 no db8 i r8 it an 8 i h8 2...</td>\n",
       "      <td>1</td>\n",
       "      <td>0</td>\n",
       "      <td>NaN</td>\n",
       "      <td>NaN</td>\n",
       "    </tr>\n",
       "    <tr>\n",
       "      <th>1</th>\n",
       "      <td>24845425</td>\n",
       "      <td>rel8 str8 appreci8 congratul8</td>\n",
       "      <td>i rel8 str8 appreci8 and congratul8</td>\n",
       "      <td>1</td>\n",
       "      <td>1</td>\n",
       "      <td>NaN</td>\n",
       "      <td>NaN</td>\n",
       "    </tr>\n",
       "    <tr>\n",
       "      <th>2</th>\n",
       "      <td>24845425</td>\n",
       "      <td>NaN</td>\n",
       "      <td>i r8 this b8 an 88</td>\n",
       "      <td>1</td>\n",
       "      <td>2</td>\n",
       "      <td>NaN</td>\n",
       "      <td>NaN</td>\n",
       "    </tr>\n",
       "    <tr>\n",
       "      <th>3</th>\n",
       "      <td>24845425</td>\n",
       "      <td>plz str8 ir8</td>\n",
       "      <td>plz no h8 im str8 ir8</td>\n",
       "      <td>1</td>\n",
       "      <td>3</td>\n",
       "      <td>NaN</td>\n",
       "      <td>NaN</td>\n",
       "    </tr>\n",
       "    <tr>\n",
       "      <th>4</th>\n",
       "      <td>24845425</td>\n",
       "      <td>cre8 cant</td>\n",
       "      <td>cre8 more cant w8</td>\n",
       "      <td>1</td>\n",
       "      <td>4</td>\n",
       "      <td>NaN</td>\n",
       "      <td>NaN</td>\n",
       "    </tr>\n",
       "    <tr>\n",
       "      <th>5</th>\n",
       "      <td>24845425</td>\n",
       "      <td>convers8 wont ber8 number 8888888 ask</td>\n",
       "      <td>we should convers8 i wont ber8 my number is 88...</td>\n",
       "      <td>1</td>\n",
       "      <td>5</td>\n",
       "      <td>NaN</td>\n",
       "      <td>NaN</td>\n",
       "    </tr>\n",
       "    <tr>\n",
       "      <th>6</th>\n",
       "      <td>24845425</td>\n",
       "      <td>calls st8</td>\n",
       "      <td>no calls l8 or out of st8</td>\n",
       "      <td>1</td>\n",
       "      <td>6</td>\n",
       "      <td>NaN</td>\n",
       "      <td>NaN</td>\n",
       "    </tr>\n",
       "    <tr>\n",
       "      <th>7</th>\n",
       "      <td>24845425</td>\n",
       "      <td>ask loc8</td>\n",
       "      <td>if on a d8 ask k8 to loc8</td>\n",
       "      <td>1</td>\n",
       "      <td>7</td>\n",
       "      <td>NaN</td>\n",
       "      <td>NaN</td>\n",
       "    </tr>\n",
       "    <tr>\n",
       "      <th>8</th>\n",
       "      <td>24845425</td>\n",
       "      <td>even full pl8 always time communic8 dont hesit8</td>\n",
       "      <td>even with a full pl8 i always have time to com...</td>\n",
       "      <td>1</td>\n",
       "      <td>8</td>\n",
       "      <td>NaN</td>\n",
       "      <td>NaN</td>\n",
       "    </tr>\n",
       "    <tr>\n",
       "      <th>9</th>\n",
       "      <td>24845428</td>\n",
       "      <td>pretty good tbh edit pretty good fuck sean lyi...</td>\n",
       "      <td>its pretty good tbh edit its pretty good but f...</td>\n",
       "      <td>0</td>\n",
       "      <td>0</td>\n",
       "      <td>NaN</td>\n",
       "      <td>NaN</td>\n",
       "    </tr>\n",
       "  </tbody>\n",
       "</table>\n",
       "</div>"
      ],
      "text/plain": [
       "   recommendationid                                     clean_sentence  \\\n",
       "0          24845425  yeah gr8 db8 ir8 st8 hey apreci8 gr8 wan mayb ...   \n",
       "1          24845425                      rel8 str8 appreci8 congratul8   \n",
       "2          24845425                                                NaN   \n",
       "3          24845425                                       plz str8 ir8   \n",
       "4          24845425                                          cre8 cant   \n",
       "5          24845425              convers8 wont ber8 number 8888888 ask   \n",
       "6          24845425                                          calls st8   \n",
       "7          24845425                                           ask loc8   \n",
       "8          24845425    even full pl8 always time communic8 dont hesit8   \n",
       "9          24845428  pretty good tbh edit pretty good fuck sean lyi...   \n",
       "\n",
       "                                  tokenized_sentence  voted_up  order  \\\n",
       "0  yeah m8 this is gr8 no db8 i r8 it an 8 i h8 2...         1      0   \n",
       "1                i rel8 str8 appreci8 and congratul8         1      1   \n",
       "2                                 i r8 this b8 an 88         1      2   \n",
       "3                              plz no h8 im str8 ir8         1      3   \n",
       "4                                  cre8 more cant w8         1      4   \n",
       "5  we should convers8 i wont ber8 my number is 88...         1      5   \n",
       "6                          no calls l8 or out of st8         1      6   \n",
       "7                          if on a d8 ask k8 to loc8         1      7   \n",
       "8  even with a full pl8 i always have time to com...         1      8   \n",
       "9  its pretty good tbh edit its pretty good but f...         0      0   \n",
       "\n",
       "   informative heuristic  \n",
       "0          NaN       NaN  \n",
       "1          NaN       NaN  \n",
       "2          NaN       NaN  \n",
       "3          NaN       NaN  \n",
       "4          NaN       NaN  \n",
       "5          NaN       NaN  \n",
       "6          NaN       NaN  \n",
       "7          NaN       NaN  \n",
       "8          NaN       NaN  \n",
       "9          NaN       NaN  "
      ]
     },
     "execution_count": 125,
     "metadata": {},
     "output_type": "execute_result"
    }
   ],
   "source": [
    "import pandas as pd\n",
    "import numpy as np\n",
    "from sklearn.model_selection import train_test_split\n",
    "from sklearn.preprocessing import StandardScaler, MultiLabelBinarizer\n",
    "from sklearn.neighbors import KNeighborsClassifier\n",
    "from sklearn.metrics import accuracy_score, classification_report\n",
    "import datetime\n",
    "import matplotlib.pyplot as plt\n",
    "import plotly.express as px\n",
    "import seaborn as sns\n",
    "import matplotlib.pyplot as plt\n",
    "from wordcloud import WordCloud, STOPWORDS\n",
    "from collections import Counter\n",
    "import warnings\n",
    "warnings.filterwarnings('ignore')\n",
    "\n",
    "pd.options.mode.chained_assignment = None  # default='warn'\n",
    "\n",
    "\n",
    "# Load the dataset\n",
    "#file_path = \"__sprint_1_alt_no_mans_sky_labelled_steam_review_data.csv\"\n",
    "file_path = \"datasets/__sprint2_no_mans_sky_steam_review_data_split_reviews_remergeable_FINAL_LABELS.csv\"\n",
    "df = pd.read_csv(file_path, encoding='latin1', low_memory=False)\n",
    "\n",
    "#heuristic\n",
    "#informative\n",
    "#df.head(10)\n",
    "\n",
    "wip_df = df.drop(columns=[#'recommendationid'\n",
    "                          #,'clean_sentence'\n",
    "                          #,'tokenized_sentence'\n",
    "                          #,'voted_up'\n",
    "                          #'language'\n",
    "                          #,'timestamp_created'\n",
    "                          #,'timestamp_updated'\n",
    "                          #,'votes_up'\n",
    "                          #,'votes_funny'\n",
    "                          #,'weighted_vote_score'\n",
    "                          #,'steam_purchase'\n",
    "                          #,'author_num_games_owned'\n",
    "                          #,'author_num_reviews'\n",
    "                          #,'author_playtime_forever'\n",
    "                          #,'author_last_played'\n",
    "                          #,'informative'\n",
    "                          #,'heuristic'\n",
    "                 ])\n",
    "#wip_df.head(10)\n",
    "informative_df = wip_df.drop(columns=['recommendationid', 'tokenized_sentence', 'voted_up', 'heuristic'])\n",
    "heuristic_df = wip_df.drop(columns=['recommendationid', 'tokenized_sentence', 'voted_up','informative'])\n",
    "#informative_df.head(10)\n",
    "#heuristic_df.head(10)\n",
    "df.head(10)"
   ]
  },
  {
   "cell_type": "code",
   "execution_count": 127,
   "id": "6160c8c0-8c9f-4d26-be9e-0d1fa74345ba",
   "metadata": {},
   "outputs": [
    {
     "data": {
      "text/plain": [
       "Index(['recommendationid', 'clean_sentence', 'tokenized_sentence', 'voted_up',\n",
       "       'order', 'informative', 'heuristic'],\n",
       "      dtype='object')"
      ]
     },
     "execution_count": 127,
     "metadata": {},
     "output_type": "execute_result"
    }
   ],
   "source": [
    "wip_df.columns"
   ]
  },
  {
   "cell_type": "code",
   "execution_count": 135,
   "id": "6cbfab8c-faa9-4f77-a073-16fa32a925b2",
   "metadata": {},
   "outputs": [
    {
     "data": {
      "text/plain": [
       "informative\n",
       "0.0    2625\n",
       "1.0    1581\n",
       "Name: count, dtype: int64"
      ]
     },
     "execution_count": 135,
     "metadata": {},
     "output_type": "execute_result"
    }
   ],
   "source": [
    "informative_df.drop_duplicates()['informative'].value_counts()"
   ]
  },
  {
   "cell_type": "code",
   "execution_count": 229,
   "id": "ba52258a-9070-4289-a257-e40cf64f28c7",
   "metadata": {},
   "outputs": [
    {
     "data": {
      "text/plain": [
       "informative\n",
       "0.0    1500\n",
       "1.0    1500\n",
       "Name: count, dtype: int64"
      ]
     },
     "execution_count": 229,
     "metadata": {},
     "output_type": "execute_result"
    }
   ],
   "source": [
    "from sklearn.feature_extraction.text import CountVectorizer\n",
    "from sklearn.naive_bayes import MultinomialNB\n",
    "\n",
    "#Playability informative Naives Bayes Classification\n",
    "\n",
    "X = informative_df.drop_duplicates()[(informative_df['informative'].notnull()) & (informative_df['informative'] != '')]\n",
    "X = X.dropna()\n",
    "X = (X.groupby('informative', group_keys=False)\n",
    "         .apply(lambda g: g.sample(n=min(1500, len(g)), random_state=5))\n",
    "      )\n",
    "X['informative'].value_counts()"
   ]
  },
  {
   "cell_type": "code",
   "execution_count": 231,
   "id": "a9d3c047-33f2-494f-93d7-bf064291bc67",
   "metadata": {},
   "outputs": [
    {
     "name": "stdout",
     "output_type": "stream",
     "text": [
      "Accuracy: 0.8133333333333334\n",
      "Classification Report:\n",
      "               precision    recall  f1-score   support\n",
      "\n",
      "         0.0       0.84      0.78      0.81       450\n",
      "         1.0       0.79      0.85      0.82       450\n",
      "\n",
      "    accuracy                           0.81       900\n",
      "   macro avg       0.82      0.81      0.81       900\n",
      "weighted avg       0.82      0.81      0.81       900\n",
      "\n"
     ]
    }
   ],
   "source": [
    "\n",
    "\n",
    "y = X['informative']\n",
    "X = X.drop(columns=['informative'])\n",
    "#print(X.count())\n",
    "#print(y.count())\n",
    "\n",
    "# Convert the text data to a bag-of-words representation\n",
    "vectorizer = CountVectorizer()\n",
    "texts = X['clean_sentence']\n",
    "X = vectorizer.fit_transform(texts)\n",
    "\n",
    "# Split the data into training and testing sets (80% train, 20% test)\n",
    "X_train, X_test, y_train, y_test = train_test_split(X, y, test_size=0.30, random_state=5, stratify=y)\n",
    "\n",
    "# Initialize the Naive Bayes classifier (MultinomialNB is well-suited for count data)\n",
    "classifier = MultinomialNB()\n",
    "\n",
    "# Train the classifier on the training data\n",
    "classifier.fit(X_train, y_train)\n",
    "\n",
    "# Predict the labels for the test set\n",
    "y_pred = classifier.predict(X_test)\n",
    "\n",
    "# Evaluate the classifier performance\n",
    "accuracy = accuracy_score(y_test, y_pred)\n",
    "report = classification_report(y_test, y_pred)\n",
    "\n",
    "print(\"Accuracy:\", accuracy)\n",
    "print(\"Classification Report:\\n\", report)"
   ]
  },
  {
   "cell_type": "code",
   "execution_count": null,
   "id": "30b95ad7-a937-4f0b-872c-df6dde2bfac3",
   "metadata": {},
   "outputs": [],
   "source": []
  },
  {
   "cell_type": "code",
   "execution_count": null,
   "id": "20b5d69d-d19c-4043-a046-20dbbfe887e0",
   "metadata": {},
   "outputs": [],
   "source": []
  },
  {
   "cell_type": "code",
   "execution_count": 235,
   "id": "383e5f06-4da7-4a74-8127-67b584563c16",
   "metadata": {},
   "outputs": [
    {
     "name": "stdout",
     "output_type": "stream",
     "text": [
      "informative\n",
      "0.0    8099\n",
      "1.0    1596\n",
      "Name: count, dtype: int64\n",
      "515471\n"
     ]
    }
   ],
   "source": [
    "print(informative_df['informative'].value_counts())\n",
    "print(informative_df['clean_sentence'].count())"
   ]
  },
  {
   "cell_type": "code",
   "execution_count": 237,
   "id": "03fdeb47-656e-48a5-93c4-3c762127fdff",
   "metadata": {},
   "outputs": [],
   "source": [
    "#Execution started at 16:37"
   ]
  },
  {
   "cell_type": "code",
   "execution_count": 239,
   "id": "7173b664-7b2f-451b-a231-a66807992a88",
   "metadata": {},
   "outputs": [
    {
     "name": "stdout",
     "output_type": "stream",
     "text": [
      "20.Mar 2025 23:55:48\n"
     ]
    }
   ],
   "source": [
    "print(datetime.datetime.now().strftime(\"%d.%b %Y %H:%M:%S\"))"
   ]
  },
  {
   "cell_type": "code",
   "execution_count": 241,
   "id": "f42c7c74-0861-47da-88ca-af6826475897",
   "metadata": {},
   "outputs": [
    {
     "name": "stdout",
     "output_type": "stream",
     "text": [
      "informative\n",
      "0.0    8099\n",
      "1.0    1596\n",
      "Name: count, dtype: int64\n",
      "informative\n",
      "0.0    274687\n",
      "1.0    248961\n",
      "Name: count, dtype: int64\n"
     ]
    }
   ],
   "source": [
    "print(informative_df['informative'].value_counts())\n",
    "\n",
    "for row in informative_df[(informative_df['informative'].isnull()) | (informative_df['informative'] == '') ].itertuples(index=True, name='Row'):\n",
    "    #print(row)\n",
    "    #if len(row.clean_sentence):\n",
    "    vect = vectorizer.transform([str(row.clean_sentence)])\n",
    "    informative_df.loc[row.Index, 'informative'] = classifier.predict(vect)\n",
    "    #else:\n",
    "    #    informative_df.loc[row.Index, 'informative'] = 0\n",
    "\n",
    "for row in wip_df[(wip_df['informative'].isnull()) | (wip_df['informative'] == '') ].itertuples(index=True, name='Row'):\n",
    "    vect = vectorizer.transform([str(row.clean_sentence)])\n",
    "    wip_df.loc[row.Index, 'informative'] = classifier.predict(vect)\n",
    "\n",
    "print(informative_df['informative'].value_counts())"
   ]
  },
  {
   "cell_type": "code",
   "execution_count": 242,
   "id": "d17c2719-c39b-419f-a496-2aa1e7888ba2",
   "metadata": {},
   "outputs": [
    {
     "name": "stdout",
     "output_type": "stream",
     "text": [
      "21.Mar 2025 00:01:21\n"
     ]
    }
   ],
   "source": [
    "print(datetime.datetime.now().strftime(\"%d.%b %Y %H:%M:%S\"))"
   ]
  },
  {
   "cell_type": "code",
   "execution_count": 243,
   "id": "f71d75b3-670b-47b1-9dc0-513ec42159a3",
   "metadata": {},
   "outputs": [],
   "source": [
    "#informative_df[(informative_df['informative'] == 0)]['clean_sentence'].tail(50)"
   ]
  },
  {
   "cell_type": "raw",
   "id": "cdd0271f-8007-4036-b3eb-ee1d6a608f1e",
   "metadata": {},
   "source": [
    "informative_df.to_csv('__sprint2_filtered_labelled_dataset.csv')"
   ]
  },
  {
   "cell_type": "code",
   "execution_count": 246,
   "id": "2d39a0e8-c187-41be-a137-8d1fc2d05091",
   "metadata": {},
   "outputs": [
    {
     "name": "stdout",
     "output_type": "stream",
     "text": [
      "21.Mar 2025 00:02:48\n"
     ]
    }
   ],
   "source": [
    "print(datetime.datetime.now().strftime(\"%d.%b %Y %H:%M:%S\"))"
   ]
  },
  {
   "cell_type": "code",
   "execution_count": 324,
   "id": "bd0b13cb-e563-4945-b1a4-024dae1576fb",
   "metadata": {},
   "outputs": [
    {
     "data": {
      "text/html": [
       "<div>\n",
       "<style scoped>\n",
       "    .dataframe tbody tr th:only-of-type {\n",
       "        vertical-align: middle;\n",
       "    }\n",
       "\n",
       "    .dataframe tbody tr th {\n",
       "        vertical-align: top;\n",
       "    }\n",
       "\n",
       "    .dataframe thead th {\n",
       "        text-align: right;\n",
       "    }\n",
       "</style>\n",
       "<table border=\"1\" class=\"dataframe\">\n",
       "  <thead>\n",
       "    <tr style=\"text-align: right;\">\n",
       "      <th></th>\n",
       "      <th>clean_sentence</th>\n",
       "      <th>order</th>\n",
       "      <th>heuristic</th>\n",
       "    </tr>\n",
       "  </thead>\n",
       "  <tbody>\n",
       "    <tr>\n",
       "      <th>494</th>\n",
       "      <td>even tho kind added 219 support still stretche...</td>\n",
       "      <td>2</td>\n",
       "      <td>F</td>\n",
       "    </tr>\n",
       "    <tr>\n",
       "      <th>593</th>\n",
       "      <td>sit loading screen minutes crashes</td>\n",
       "      <td>0</td>\n",
       "      <td>F</td>\n",
       "    </tr>\n",
       "    <tr>\n",
       "      <th>599</th>\n",
       "      <td>games fantastic upon launching screen flashes ...</td>\n",
       "      <td>0</td>\n",
       "      <td>F</td>\n",
       "    </tr>\n",
       "    <tr>\n",
       "      <th>768</th>\n",
       "      <td>lets talk menus bad port obviously frustrating...</td>\n",
       "      <td>8</td>\n",
       "      <td>U</td>\n",
       "    </tr>\n",
       "    <tr>\n",
       "      <th>887</th>\n",
       "      <td>crashes loading space scene</td>\n",
       "      <td>0</td>\n",
       "      <td>F</td>\n",
       "    </tr>\n",
       "    <tr>\n",
       "      <th>892</th>\n",
       "      <td>terrible fps terrible graphic quality loading ...</td>\n",
       "      <td>0</td>\n",
       "      <td>F</td>\n",
       "    </tr>\n",
       "    <tr>\n",
       "      <th>979</th>\n",
       "      <td>stuttering freezing fixed things like searchin...</td>\n",
       "      <td>5</td>\n",
       "      <td>F</td>\n",
       "    </tr>\n",
       "    <tr>\n",
       "      <th>998</th>\n",
       "      <td>lowest fps ever stuttering everywhere</td>\n",
       "      <td>1</td>\n",
       "      <td>F</td>\n",
       "    </tr>\n",
       "    <tr>\n",
       "      <th>1165</th>\n",
       "      <td>issues launching game</td>\n",
       "      <td>3</td>\n",
       "      <td>F</td>\n",
       "    </tr>\n",
       "    <tr>\n",
       "      <th>1433</th>\n",
       "      <td>deafult 30fps unintuative menu system initally...</td>\n",
       "      <td>1</td>\n",
       "      <td>U</td>\n",
       "    </tr>\n",
       "  </tbody>\n",
       "</table>\n",
       "</div>"
      ],
      "text/plain": [
       "                                         clean_sentence  order heuristic\n",
       "494   even tho kind added 219 support still stretche...      2         F\n",
       "593                  sit loading screen minutes crashes      0         F\n",
       "599   games fantastic upon launching screen flashes ...      0         F\n",
       "768   lets talk menus bad port obviously frustrating...      8         U\n",
       "887                         crashes loading space scene      0         F\n",
       "892   terrible fps terrible graphic quality loading ...      0         F\n",
       "979   stuttering freezing fixed things like searchin...      5         F\n",
       "998               lowest fps ever stuttering everywhere      1         F\n",
       "1165                              issues launching game      3         F\n",
       "1433  deafult 30fps unintuative menu system initally...      1         U"
      ]
     },
     "execution_count": 324,
     "metadata": {},
     "output_type": "execute_result"
    }
   ],
   "source": [
    "heuristic_df.loc[(heuristic_df['heuristic'].notnull())].head(10)"
   ]
  },
  {
   "cell_type": "code",
   "execution_count": 338,
   "id": "b9059874-3497-494f-90fd-3325ff345d4e",
   "metadata": {},
   "outputs": [
    {
     "name": "stdout",
     "output_type": "stream",
     "text": [
      "                                       clean_sentence  order heuristic\n",
      "0   yeah gr8 db8 ir8 st8 hey apreci8 gr8 wan mayb ...      0       NaN\n",
      "1                       rel8 str8 appreci8 congratul8      1       NaN\n",
      "2                                                 NaN      2       NaN\n",
      "3                                        plz str8 ir8      3       NaN\n",
      "4                                           cre8 cant      4       NaN\n",
      "5               convers8 wont ber8 number 8888888 ask      5       NaN\n",
      "6                                           calls st8      6       NaN\n",
      "7                                            ask loc8      7       NaN\n",
      "8     even full pl8 always time communic8 dont hesit8      8       NaN\n",
      "9   pretty good tbh edit pretty good fuck sean lyi...      0       NaN\n",
      "10                                  1st public review      0       NaN\n",
      "11  edit quick tips left click enter menus right c...      1       NaN\n",
      "12  press craft item inventory menu took like minu...      2       NaN\n",
      "13  issues running game getting fps options turn c...      3       NaN\n",
      "14                                           defaults      4       NaN\n",
      "15                    also turn vsync want higher fps      5       NaN\n",
      "16                            game runs really smooth      6       NaN\n",
      "17                                     game great buy      7       NaN\n",
      "18  many ppl rating negative havent discovered opt...      8       NaN\n",
      "19         mans sky potential game might consume life      9       NaN\n"
     ]
    },
    {
     "data": {
      "text/plain": [
       "heuristic\n",
       "[F]    498\n",
       "[U]    497\n",
       "[G]    490\n",
       "Name: count, dtype: int64"
      ]
     },
     "execution_count": 338,
     "metadata": {},
     "output_type": "execute_result"
    }
   ],
   "source": [
    "print(heuristic_df.head(20))\n",
    "# 'heuristic'\n",
    "heuristic_training = heuristic_df.loc[(heuristic_df['heuristic'].notnull()) & (heuristic_df['heuristic'] != '')]\n",
    "heuristic_training = heuristic_df.loc[((heuristic_df['heuristic'] =='G')|(heuristic_df['heuristic'] =='U')|(heuristic_df['heuristic'] =='F')) & (heuristic_df['heuristic'] != '')]\n",
    "#heuristic_training = heuristic_training.drop_duplicates()\n",
    "\n",
    "heuristic_training = heuristic_training.drop_duplicates()\n",
    "\n",
    "#Tidy up the label values\n",
    "for row in heuristic_training.itertuples(index=True, name='Row'):\n",
    "    heuristic_training.loc[row.Index, 'heuristic'] = str(heuristic_training.loc[row.Index, 'heuristic']).replace('\"','').replace(\"'\",'').replace(' ','').replace('[','').replace(']','').split(',')\n",
    "\n",
    "\n",
    "\n",
    "heuristic_training.dropna(how='any')\n",
    "heuristic_training.describe()\n",
    "\n",
    "#heuristic_training.head(20)\n",
    "heuristic_training['heuristic'].value_counts()"
   ]
  },
  {
   "cell_type": "code",
   "execution_count": 339,
   "id": "7c11c764-d75e-4849-a3a6-5c87a4e4ad3a",
   "metadata": {},
   "outputs": [
    {
     "data": {
      "text/html": [
       "<div>\n",
       "<style scoped>\n",
       "    .dataframe tbody tr th:only-of-type {\n",
       "        vertical-align: middle;\n",
       "    }\n",
       "\n",
       "    .dataframe tbody tr th {\n",
       "        vertical-align: top;\n",
       "    }\n",
       "\n",
       "    .dataframe thead th {\n",
       "        text-align: right;\n",
       "    }\n",
       "</style>\n",
       "<table border=\"1\" class=\"dataframe\">\n",
       "  <thead>\n",
       "    <tr style=\"text-align: right;\">\n",
       "      <th></th>\n",
       "      <th>clean_sentence</th>\n",
       "      <th>order</th>\n",
       "      <th>heuristic</th>\n",
       "    </tr>\n",
       "  </thead>\n",
       "  <tbody>\n",
       "    <tr>\n",
       "      <th>494</th>\n",
       "      <td>even tho kind added 219 support still stretche...</td>\n",
       "      <td>2</td>\n",
       "      <td>[F]</td>\n",
       "    </tr>\n",
       "    <tr>\n",
       "      <th>593</th>\n",
       "      <td>sit loading screen minutes crashes</td>\n",
       "      <td>0</td>\n",
       "      <td>[F]</td>\n",
       "    </tr>\n",
       "    <tr>\n",
       "      <th>599</th>\n",
       "      <td>games fantastic upon launching screen flashes ...</td>\n",
       "      <td>0</td>\n",
       "      <td>[F]</td>\n",
       "    </tr>\n",
       "    <tr>\n",
       "      <th>768</th>\n",
       "      <td>lets talk menus bad port obviously frustrating...</td>\n",
       "      <td>8</td>\n",
       "      <td>[U]</td>\n",
       "    </tr>\n",
       "    <tr>\n",
       "      <th>887</th>\n",
       "      <td>crashes loading space scene</td>\n",
       "      <td>0</td>\n",
       "      <td>[F]</td>\n",
       "    </tr>\n",
       "    <tr>\n",
       "      <th>892</th>\n",
       "      <td>terrible fps terrible graphic quality loading ...</td>\n",
       "      <td>0</td>\n",
       "      <td>[F]</td>\n",
       "    </tr>\n",
       "    <tr>\n",
       "      <th>979</th>\n",
       "      <td>stuttering freezing fixed things like searchin...</td>\n",
       "      <td>5</td>\n",
       "      <td>[F]</td>\n",
       "    </tr>\n",
       "    <tr>\n",
       "      <th>998</th>\n",
       "      <td>lowest fps ever stuttering everywhere</td>\n",
       "      <td>1</td>\n",
       "      <td>[F]</td>\n",
       "    </tr>\n",
       "    <tr>\n",
       "      <th>1165</th>\n",
       "      <td>issues launching game</td>\n",
       "      <td>3</td>\n",
       "      <td>[F]</td>\n",
       "    </tr>\n",
       "    <tr>\n",
       "      <th>1433</th>\n",
       "      <td>deafult 30fps unintuative menu system initally...</td>\n",
       "      <td>1</td>\n",
       "      <td>[U]</td>\n",
       "    </tr>\n",
       "    <tr>\n",
       "      <th>1493</th>\n",
       "      <td>still trying figure interface looking forward ...</td>\n",
       "      <td>1</td>\n",
       "      <td>[U]</td>\n",
       "    </tr>\n",
       "    <tr>\n",
       "      <th>1645</th>\n",
       "      <td>someone used elite dangerous flight mechanics ...</td>\n",
       "      <td>13</td>\n",
       "      <td>[G]</td>\n",
       "    </tr>\n",
       "    <tr>\n",
       "      <th>1711</th>\n",
       "      <td>fps drops like crazy constant stuttering</td>\n",
       "      <td>0</td>\n",
       "      <td>[F]</td>\n",
       "    </tr>\n",
       "    <tr>\n",
       "      <th>1745</th>\n",
       "      <td>good game still gives feeling emptiness</td>\n",
       "      <td>10</td>\n",
       "      <td>[G]</td>\n",
       "    </tr>\n",
       "    <tr>\n",
       "      <th>2246</th>\n",
       "      <td>stutters lags like crap good rig</td>\n",
       "      <td>5</td>\n",
       "      <td>[F]</td>\n",
       "    </tr>\n",
       "    <tr>\n",
       "      <th>2319</th>\n",
       "      <td>1it crashed startup fixed 2getting fps gtx 980...</td>\n",
       "      <td>0</td>\n",
       "      <td>[F]</td>\n",
       "    </tr>\n",
       "    <tr>\n",
       "      <th>2369</th>\n",
       "      <td>stuttery jittery mess</td>\n",
       "      <td>0</td>\n",
       "      <td>[F]</td>\n",
       "    </tr>\n",
       "    <tr>\n",
       "      <th>2569</th>\n",
       "      <td>game stops white loading screen</td>\n",
       "      <td>0</td>\n",
       "      <td>[F]</td>\n",
       "    </tr>\n",
       "    <tr>\n",
       "      <th>2801</th>\n",
       "      <td>update 81416 still havent able play</td>\n",
       "      <td>2</td>\n",
       "      <td>[F]</td>\n",
       "    </tr>\n",
       "    <tr>\n",
       "      <th>2861</th>\n",
       "      <td>minor stuttering beginning became progressivel...</td>\n",
       "      <td>4</td>\n",
       "      <td>[F]</td>\n",
       "    </tr>\n",
       "  </tbody>\n",
       "</table>\n",
       "</div>"
      ],
      "text/plain": [
       "                                         clean_sentence  order heuristic\n",
       "494   even tho kind added 219 support still stretche...      2       [F]\n",
       "593                  sit loading screen minutes crashes      0       [F]\n",
       "599   games fantastic upon launching screen flashes ...      0       [F]\n",
       "768   lets talk menus bad port obviously frustrating...      8       [U]\n",
       "887                         crashes loading space scene      0       [F]\n",
       "892   terrible fps terrible graphic quality loading ...      0       [F]\n",
       "979   stuttering freezing fixed things like searchin...      5       [F]\n",
       "998               lowest fps ever stuttering everywhere      1       [F]\n",
       "1165                              issues launching game      3       [F]\n",
       "1433  deafult 30fps unintuative menu system initally...      1       [U]\n",
       "1493  still trying figure interface looking forward ...      1       [U]\n",
       "1645  someone used elite dangerous flight mechanics ...     13       [G]\n",
       "1711           fps drops like crazy constant stuttering      0       [F]\n",
       "1745            good game still gives feeling emptiness     10       [G]\n",
       "2246                   stutters lags like crap good rig      5       [F]\n",
       "2319  1it crashed startup fixed 2getting fps gtx 980...      0       [F]\n",
       "2369                              stuttery jittery mess      0       [F]\n",
       "2569                    game stops white loading screen      0       [F]\n",
       "2801                update 81416 still havent able play      2       [F]\n",
       "2861  minor stuttering beginning became progressivel...      4       [F]"
      ]
     },
     "execution_count": 339,
     "metadata": {},
     "output_type": "execute_result"
    }
   ],
   "source": [
    "heuristic_training.head(20)"
   ]
  },
  {
   "cell_type": "code",
   "execution_count": 342,
   "id": "451ec221-aa5d-42ad-8ab0-d8fa6274af37",
   "metadata": {},
   "outputs": [
    {
     "name": "stdout",
     "output_type": "stream",
     "text": [
      "                                         clean_sentence  order heuristic\n",
      "494   even tho kind added 219 support still stretche...      2       [F]\n",
      "593                  sit loading screen minutes crashes      0       [F]\n",
      "599   games fantastic upon launching screen flashes ...      0       [F]\n",
      "768   lets talk menus bad port obviously frustrating...      8       [U]\n",
      "887                         crashes loading space scene      0       [F]\n",
      "892   terrible fps terrible graphic quality loading ...      0       [F]\n",
      "979   stuttering freezing fixed things like searchin...      5       [F]\n",
      "998               lowest fps ever stuttering everywhere      1       [F]\n",
      "1165                              issues launching game      3       [F]\n",
      "1433  deafult 30fps unintuative menu system initally...      1       [U]\n",
      "                                           clean_sentence  order heuristic\n",
      "119410        performance issues going really experienced      4       [F]\n",
      "462017  extremely buggy base randomly deleted storage ...      2       [F]\n",
      "26328                    framerate running issues crashes      1       [F]\n",
      "94957   however amount stutter framerate dip lag ive e...      7       [F]\n",
      "391604  still issue technical side like drop frames st...     20       [F]\n",
      "178016                    runs much better well optimised      5       [F]\n",
      "467938  major performance issues crashes game breaking...      3       [F]\n",
      "152432         stutters runs like crap 6700k ssd gtx 1080      1       [F]\n",
      "11456                                        terrible fps      0       [F]\n",
      "103926                        get really high frames game     23       [F]\n"
     ]
    }
   ],
   "source": [
    "print(heuristic_training.head(10))\n",
    "\n",
    "heuristic_training['heuristic_str'] = heuristic_training['heuristic']\n",
    "\n",
    "heuristic_training['heuristic_str'] = [','.join(map(str, l)) for l in heuristic_training['heuristic']]\n",
    "\n",
    "heuristic_training = (heuristic_training.groupby('heuristic_str', group_keys=False)\n",
    "         .apply(lambda g: g.sample(n=min(300, len(g)), random_state=5))\n",
    "      )\n",
    "\n",
    "heuristic_training = heuristic_training.drop(columns='heuristic_str')\n",
    "\n",
    "print(heuristic_training.head(10))"
   ]
  },
  {
   "cell_type": "code",
   "execution_count": 344,
   "id": "c99b116b-50dd-448e-a2bf-6a2d08717277",
   "metadata": {},
   "outputs": [
    {
     "name": "stdout",
     "output_type": "stream",
     "text": [
      "21.Mar 2025 00:22:09\n"
     ]
    }
   ],
   "source": [
    "print(datetime.datetime.now().strftime(\"%d.%b %Y %H:%M:%S\"))"
   ]
  },
  {
   "cell_type": "code",
   "execution_count": 346,
   "id": "ccc9bc77-65dd-467a-91bb-ef4946f1f7e1",
   "metadata": {},
   "outputs": [
    {
     "name": "stdout",
     "output_type": "stream",
     "text": [
      "900\n"
     ]
    }
   ],
   "source": [
    "print(len(heuristic_training))"
   ]
  },
  {
   "cell_type": "code",
   "execution_count": null,
   "id": "251e7b3b-abd8-489b-8f65-ea2fc42e188b",
   "metadata": {},
   "outputs": [],
   "source": []
  },
  {
   "cell_type": "raw",
   "id": "a72ae6b4-7094-4f68-9658-dac5c191eb9b",
   "metadata": {},
   "source": [
    "from sklearn.feature_extraction.text import TfidfVectorizer\n",
    "from sklearn.multiclass import OneVsRestClassifier\n",
    "\n",
    "# Encode multi-labels\n",
    "mlb = MultiLabelBinarizer()\n",
    "label_matrix = mlb.fit_transform( str(heuristic_training['heuristic']).replace(\" \",\"\").split(\",\") )\n",
    "\n",
    "# Convert text data into numerical features using TF-IDF\n",
    "vectorizer = TfidfVectorizer()\n",
    "X_tfidf = vectorizer.fit_transform(heuristic_training['clean_sentence'])\n",
    "\n"
   ]
  },
  {
   "cell_type": "code",
   "execution_count": 349,
   "id": "77090abb-2017-4580-bc1d-100ca3843112",
   "metadata": {},
   "outputs": [],
   "source": [
    "from sklearn.feature_extraction.text import TfidfVectorizer\n",
    "from sklearn.multiclass import OneVsRestClassifier\n",
    "\n",
    "# Encode multi-labels\n",
    "mlb = MultiLabelBinarizer()\n",
    "label_matrix = mlb.fit_transform(heuristic_training['heuristic'])\n",
    "\n",
    "# Convert text data into numerical features using TF-IDF\n",
    "vectorizer = TfidfVectorizer()\n",
    "X_tfidf = vectorizer.fit_transform(heuristic_training['clean_sentence'])\n",
    "\n"
   ]
  },
  {
   "cell_type": "code",
   "execution_count": 351,
   "id": "82a0ad99-f218-4fc0-8288-a9a011ea1165",
   "metadata": {},
   "outputs": [
    {
     "data": {
      "text/plain": [
       "heuristic\n",
       "[F]    300\n",
       "[G]    300\n",
       "[U]    300\n",
       "Name: count, dtype: int64"
      ]
     },
     "execution_count": 351,
     "metadata": {},
     "output_type": "execute_result"
    }
   ],
   "source": [
    "heuristic_training['heuristic'].value_counts()"
   ]
  },
  {
   "cell_type": "code",
   "execution_count": 353,
   "id": "9f207681-3df4-4f3c-ad28-8f3f172565f6",
   "metadata": {},
   "outputs": [
    {
     "data": {
      "text/plain": [
       "900"
      ]
     },
     "execution_count": 353,
     "metadata": {},
     "output_type": "execute_result"
    }
   ],
   "source": [
    "len(heuristic_training)"
   ]
  },
  {
   "cell_type": "code",
   "execution_count": 355,
   "id": "0fab7ecc-f4b9-49e6-8cb1-d507ee1bc5d7",
   "metadata": {},
   "outputs": [
    {
     "data": {
      "text/plain": [
       "array([[1, 0, 0],\n",
       "       [1, 0, 0],\n",
       "       [1, 0, 0],\n",
       "       ...,\n",
       "       [0, 0, 1],\n",
       "       [0, 0, 1],\n",
       "       [0, 0, 1]])"
      ]
     },
     "execution_count": 355,
     "metadata": {},
     "output_type": "execute_result"
    }
   ],
   "source": [
    "label_matrix"
   ]
  },
  {
   "cell_type": "code",
   "execution_count": 357,
   "id": "cd3851e2-b035-4acc-ab74-1e3a36fd4060",
   "metadata": {},
   "outputs": [
    {
     "data": {
      "text/plain": [
       "[('F', 'G', 'U')]"
      ]
     },
     "execution_count": 357,
     "metadata": {},
     "output_type": "execute_result"
    }
   ],
   "source": [
    "mlb.inverse_transform(np.array([[1, 1, 1]]))"
   ]
  },
  {
   "cell_type": "code",
   "execution_count": 359,
   "id": "fb496849-18bc-4e11-a184-13e2a541b77a",
   "metadata": {},
   "outputs": [
    {
     "data": {
      "text/plain": [
       "array(['F', 'G', 'U'], dtype=object)"
      ]
     },
     "execution_count": 359,
     "metadata": {},
     "output_type": "execute_result"
    }
   ],
   "source": [
    "mlb.classes_"
   ]
  },
  {
   "cell_type": "code",
   "execution_count": 361,
   "id": "606ced6b-00e9-41ea-beb0-15fb6b19d471",
   "metadata": {},
   "outputs": [
    {
     "name": "stdout",
     "output_type": "stream",
     "text": [
      "k=20: Average Micro F1-score across all folds: 0.6983\n",
      "k=21: Average Micro F1-score across all folds: 0.7124\n",
      "k=22: Average Micro F1-score across all folds: 0.7039\n",
      "k=23: Average Micro F1-score across all folds: 0.7099\n",
      "k=24: Average Micro F1-score across all folds: 0.7066\n",
      "k=25: Average Micro F1-score across all folds: 0.7099\n",
      "k=26: Average Micro F1-score across all folds: 0.7062\n",
      "k=27: Average Micro F1-score across all folds: 0.7089\n",
      "k=28: Average Micro F1-score across all folds: 0.7072\n",
      "k=29: Average Micro F1-score across all folds: 0.7085\n",
      "k=30: Average Micro F1-score across all folds: 0.7067\n",
      "k=31: Average Micro F1-score across all folds: 0.7076\n",
      "k=32: Average Micro F1-score across all folds: 0.7064\n",
      "k=33: Average Micro F1-score across all folds: 0.7071\n",
      "k=34: Average Micro F1-score across all folds: 0.7055\n",
      "k=35: Average Micro F1-score across all folds: 0.7056\n",
      "k=36: Average Micro F1-score across all folds: 0.7040\n",
      "k=37: Average Micro F1-score across all folds: 0.7039\n",
      "k=38: Average Micro F1-score across all folds: 0.7023\n",
      "k=39: Average Micro F1-score across all folds: 0.7019\n",
      "k=40: Average Micro F1-score across all folds: 0.7005\n",
      "k=41: Average Micro F1-score across all folds: 0.7004\n",
      "k=42: Average Micro F1-score across all folds: 0.6991\n",
      "k=43: Average Micro F1-score across all folds: 0.6992\n",
      "k=44: Average Micro F1-score across all folds: 0.6981\n",
      "k=45: Average Micro F1-score across all folds: 0.6978\n",
      "k=46: Average Micro F1-score across all folds: 0.6967\n",
      "k=47: Average Micro F1-score across all folds: 0.6964\n",
      "k=48: Average Micro F1-score across all folds: 0.6951\n",
      "k=49: Average Micro F1-score across all folds: 0.6947\n",
      "k=50: Average Micro F1-score across all folds: 0.6937\n",
      "k=51: Average Micro F1-score across all folds: 0.6935\n",
      "k=52: Average Micro F1-score across all folds: 0.6924\n",
      "k=53: Average Micro F1-score across all folds: 0.6919\n",
      "k=54: Average Micro F1-score across all folds: 0.6909\n",
      "k=55: Average Micro F1-score across all folds: 0.6903\n",
      "k=56: Average Micro F1-score across all folds: 0.6894\n",
      "k=57: Average Micro F1-score across all folds: 0.6890\n",
      "k=58: Average Micro F1-score across all folds: 0.6879\n",
      "k=59: Average Micro F1-score across all folds: 0.6874\n"
     ]
    }
   ],
   "source": [
    "from sklearn.model_selection import KFold\n",
    "from sklearn.metrics import f1_score\n",
    "# Define cross-validation strategy (5-fold)\n",
    "kf = KFold(n_splits=5, shuffle=True, random_state=1)\n",
    "\n",
    "# Store F1 scores for each fold\n",
    "f1_scores = []\n",
    "\n",
    "for k in range(20, 60):\n",
    "    # Perform cross-validation\n",
    "    for fold, (train_index, test_index) in enumerate(kf.split(X_tfidf)):\n",
    "        # Split data into training and testing sets\n",
    "        X_train, X_test = X_tfidf[train_index], X_tfidf[test_index]\n",
    "        y_train, y_test = label_matrix[train_index], label_matrix[test_index]\n",
    "    \n",
    "        # Train Binary Relevance model with KNN\n",
    "        br_knn = OneVsRestClassifier(KNeighborsClassifier(n_neighbors=k))\n",
    "        br_knn.fit(X_train, y_train)\n",
    "    \n",
    "        # Predict on test data\n",
    "        y_pred = br_knn.predict(X_test)\n",
    "    \n",
    "        # Compute micro-average F1-score for multi-label classification\n",
    "        f1 = f1_score(y_test, y_pred, average=\"micro\", zero_division=0)\n",
    "        f1_scores.append(f1)\n",
    "    \n",
    "        #print(f\"k={k}: Fold {fold+1} - Micro F1-score: {f1:.4f}\")\n",
    "\n",
    "    # Compute average F1-score across all folds\n",
    "    avg_f1_score = np.mean(f1_scores)\n",
    "    print(f\"k={k}: Average Micro F1-score across all folds: {avg_f1_score:.4f}\")"
   ]
  },
  {
   "cell_type": "code",
   "execution_count": 398,
   "id": "614ecbcf-f030-4c18-b269-a762c2bf05b2",
   "metadata": {
    "editable": true,
    "slideshow": {
     "slide_type": ""
    },
    "tags": []
   },
   "outputs": [
    {
     "name": "stdout",
     "output_type": "stream",
     "text": [
      "\n",
      "K=21\n",
      "Classification Report:\n",
      "               precision    recall  f1-score   support\n",
      "\n",
      "           F       1.00      0.76      0.86        45\n",
      "           G       0.89      0.64      0.75        39\n",
      "           U       0.91      0.57      0.70        51\n",
      "\n",
      "   micro avg       0.94      0.65      0.77       135\n",
      "   macro avg       0.93      0.66      0.77       135\n",
      "weighted avg       0.93      0.65      0.77       135\n",
      " samples avg       0.65      0.65      0.65       135\n",
      "\n",
      "Accuracy: 0.6518518518518519\n"
     ]
    }
   ],
   "source": [
    "#Train the model after identifying the best k=3\n",
    "# Split data into training and testing sets\n",
    "X_train, X_test, y_train, y_test = train_test_split(\n",
    "    X_tfidf, label_matrix, test_size=0.15, random_state=1\n",
    ")\n",
    "\n",
    "#for k in range(21,26):\n",
    "k = 21\n",
    "# Train Binary Relevance model with KNN\n",
    "br_knn = OneVsRestClassifier(KNeighborsClassifier(n_neighbors=k))\n",
    "br_knn.fit(X_train, y_train)\n",
    "\n",
    "# Predict on test data\n",
    "y_pred = br_knn.predict(X_test)\n",
    "\n",
    "# Evaluate model performance\n",
    "print(f'\\nK={k}')\n",
    "print(\"Classification Report:\\n\", classification_report(y_test, y_pred, target_names=mlb.classes_, zero_division=0))\n",
    "\n",
    "# Convert predictions back to label format\n",
    "y_pred_labels = mlb.inverse_transform(y_pred)\n",
    "accuracy1 = accuracy_score(y_test, y_pred)\n",
    "print(\"Accuracy:\", accuracy1)\n",
    "#print(\"\\nPredicted Labels:\\n\", y_pred_labels)"
   ]
  },
  {
   "cell_type": "code",
   "execution_count": 400,
   "id": "0e53876c-aab2-4c58-89d2-640ba16ae2c0",
   "metadata": {},
   "outputs": [
    {
     "data": {
      "text/html": [
       "<div>\n",
       "<style scoped>\n",
       "    .dataframe tbody tr th:only-of-type {\n",
       "        vertical-align: middle;\n",
       "    }\n",
       "\n",
       "    .dataframe tbody tr th {\n",
       "        vertical-align: top;\n",
       "    }\n",
       "\n",
       "    .dataframe thead th {\n",
       "        text-align: right;\n",
       "    }\n",
       "</style>\n",
       "<table border=\"1\" class=\"dataframe\">\n",
       "  <thead>\n",
       "    <tr style=\"text-align: right;\">\n",
       "      <th></th>\n",
       "      <th>clean_sentence</th>\n",
       "      <th>order</th>\n",
       "      <th>informative</th>\n",
       "    </tr>\n",
       "  </thead>\n",
       "  <tbody>\n",
       "    <tr>\n",
       "      <th>523638</th>\n",
       "      <td>many ways customise experience</td>\n",
       "      <td>22</td>\n",
       "      <td>0.0</td>\n",
       "    </tr>\n",
       "    <tr>\n",
       "      <th>523639</th>\n",
       "      <td>like elite dangerous super easy baby mode lot ...</td>\n",
       "      <td>23</td>\n",
       "      <td>1.0</td>\n",
       "    </tr>\n",
       "    <tr>\n",
       "      <th>523640</th>\n",
       "      <td>game random gen presets</td>\n",
       "      <td>0</td>\n",
       "      <td>1.0</td>\n",
       "    </tr>\n",
       "    <tr>\n",
       "      <th>523641</th>\n",
       "      <td>voice acting</td>\n",
       "      <td>1</td>\n",
       "      <td>1.0</td>\n",
       "    </tr>\n",
       "    <tr>\n",
       "      <th>523642</th>\n",
       "      <td>gets old</td>\n",
       "      <td>2</td>\n",
       "      <td>1.0</td>\n",
       "    </tr>\n",
       "    <tr>\n",
       "      <th>523643</th>\n",
       "      <td>none less swell time</td>\n",
       "      <td>3</td>\n",
       "      <td>0.0</td>\n",
       "    </tr>\n",
       "    <tr>\n",
       "      <th>523644</th>\n",
       "      <td>game elements many games sewn one incredibly well</td>\n",
       "      <td>0</td>\n",
       "      <td>0.0</td>\n",
       "    </tr>\n",
       "    <tr>\n",
       "      <th>523645</th>\n",
       "      <td>bit survival fps space sim trading farming bas...</td>\n",
       "      <td>1</td>\n",
       "      <td>1.0</td>\n",
       "    </tr>\n",
       "    <tr>\n",
       "      <th>523646</th>\n",
       "      <td>result beautifully presented journey discovery...</td>\n",
       "      <td>2</td>\n",
       "      <td>0.0</td>\n",
       "    </tr>\n",
       "    <tr>\n",
       "      <th>523647</th>\n",
       "      <td>would recommend everyone adventurous</td>\n",
       "      <td>3</td>\n",
       "      <td>0.0</td>\n",
       "    </tr>\n",
       "  </tbody>\n",
       "</table>\n",
       "</div>"
      ],
      "text/plain": [
       "                                           clean_sentence  order  informative\n",
       "523638                     many ways customise experience     22          0.0\n",
       "523639  like elite dangerous super easy baby mode lot ...     23          1.0\n",
       "523640                            game random gen presets      0          1.0\n",
       "523641                                       voice acting      1          1.0\n",
       "523642                                           gets old      2          1.0\n",
       "523643                               none less swell time      3          0.0\n",
       "523644  game elements many games sewn one incredibly well      0          0.0\n",
       "523645  bit survival fps space sim trading farming bas...      1          1.0\n",
       "523646  result beautifully presented journey discovery...      2          0.0\n",
       "523647               would recommend everyone adventurous      3          0.0"
      ]
     },
     "execution_count": 400,
     "metadata": {},
     "output_type": "execute_result"
    }
   ],
   "source": [
    "informative_df.tail(10)"
   ]
  },
  {
   "cell_type": "markdown",
   "id": "9d8f9aaf-0a08-47e3-9ece-4258c5e25742",
   "metadata": {
    "editable": true,
    "slideshow": {
     "slide_type": ""
    },
    "tags": []
   },
   "source": [
    "\n",
    "#Tidy up the label values\n",
    "for row in wip_df.itertuples(index=True, name='Row'):\n",
    "    \n",
    "    tempVal = wip_df.loc[row.Index, 'heuristic']\n",
    "    print(tempVal)\n",
    "    if type(tempVal) is list:\n",
    "        asd=0 #Do nothing\n",
    "    elif type(tempVal) is float:\n",
    "        wip_df.loc[row.Index, 'heuristic'] = []\n",
    "    elif type(tempVal) is str:\n",
    "        wip_df.loc[row.Index, 'heuristic'] = []\n",
    "    elif len(tempVal)==0:\n",
    "        wip_df.loc[row.Index, 'heuristic'] = []\n",
    "    elif tempVal.isnull():\n",
    "        wip_df.loc[row.Index, 'heuristic'] = []\n",
    "    else:\n",
    "        wip_df.loc[row.Index, 'heuristic'] = list(str(tempVal).replace(',','').replace(\"'\",'').replace(' ',''))\n",
    "    \n",
    "    "
   ]
  },
  {
   "cell_type": "code",
   "execution_count": 403,
   "id": "c1b07ea3-5a6f-4cae-8697-446ca9113db5",
   "metadata": {},
   "outputs": [
    {
     "name": "stdout",
     "output_type": "stream",
     "text": [
      "21.Mar 2025 00:26:42\n"
     ]
    }
   ],
   "source": [
    "print(datetime.datetime.now().strftime(\"%d.%b %Y %H:%M:%S\"))"
   ]
  },
  {
   "cell_type": "code",
   "execution_count": 405,
   "id": "44c9321c-c15f-467e-a8c1-02ab1494136d",
   "metadata": {
    "editable": true,
    "slideshow": {
     "slide_type": ""
    },
    "tags": []
   },
   "outputs": [
    {
     "name": "stdout",
     "output_type": "stream",
     "text": [
      "523648\n"
     ]
    },
    {
     "data": {
      "text/plain": [
       "heuristic\n",
       "[F]          500\n",
       "[U]          500\n",
       "[G]          500\n",
       "[G, U]        44\n",
       "[F, U]        16\n",
       "[G, F]        16\n",
       "[F, G]         9\n",
       "[U, F]         5\n",
       "[U, G]         3\n",
       "[F, G, U]      2\n",
       "[G, F, U]      1\n",
       "Name: count, dtype: int64"
      ]
     },
     "execution_count": 405,
     "metadata": {},
     "output_type": "execute_result"
    }
   ],
   "source": [
    "pd.options.mode.chained_assignment = None  # default='warn'\n",
    "\n",
    "import warnings\n",
    "warnings.simplefilter(action='ignore', category=FutureWarning)\n",
    "\n",
    "print(len(wip_df['heuristic']))\n",
    "for row in wip_df.itertuples(index=True, name='Row'):\n",
    "    #print(row.Index)\n",
    "    #print(wip_df['heuristic'][row.Index] )\n",
    "    if type(wip_df['heuristic'][row.Index]) is str:\n",
    "        tempVal = list(str(wip_df['heuristic'][row.Index]).replace(',','').replace(\"'\",'').replace(' ',''))\n",
    "        if len(tempVal)==0:\n",
    "            asd = 0\n",
    "            #wip_df['heuristic'][row.Index] = []\n",
    "        else:\n",
    "            #wip_df.loc[row.Index, 'heuristic'] = tempVal\n",
    "            wip_df['heuristic'][row.Index] = tempVal\n",
    "    #elif type(wip_df['heuristic'][row.Index]) is list:\n",
    "        #Do nothing\n",
    "        #asd=0\n",
    "    #elif type(wip_df['heuristic'][row.Index]) is float:\n",
    "        #Do nothing\n",
    "        #asd=0\n",
    "        #wip_df['heuristic'][row.Index] = []\n",
    "    #elif wip_df['heuristic'][row.Index].isnull() or wip_df['heuristic'][row.Index] == '':\n",
    "        #wip_df['heuristic'][row.Index] = []\n",
    "    #else:\n",
    "        #wip_df['heuristic'][row.Index] = []\n",
    "\n",
    "\n",
    "wip_df['heuristic'].value_counts()"
   ]
  },
  {
   "cell_type": "code",
   "execution_count": 406,
   "id": "018d2413-fd55-49a3-b6db-0e8b63ec4149",
   "metadata": {},
   "outputs": [
    {
     "data": {
      "text/plain": [
       "informative\n",
       "0.0    274687\n",
       "1.0    248961\n",
       "Name: count, dtype: int64"
      ]
     },
     "execution_count": 406,
     "metadata": {},
     "output_type": "execute_result"
    }
   ],
   "source": [
    "wip_df['informative'].value_counts()"
   ]
  },
  {
   "cell_type": "code",
   "execution_count": 407,
   "id": "74feac54-a9e0-49c3-bb2d-22641a4f3276",
   "metadata": {},
   "outputs": [
    {
     "name": "stdout",
     "output_type": "stream",
     "text": [
      "21.Mar 2025 00:26:46\n"
     ]
    }
   ],
   "source": [
    "print(datetime.datetime.now().strftime(\"%d.%b %Y %H:%M:%S\"))"
   ]
  },
  {
   "cell_type": "code",
   "execution_count": 408,
   "id": "611a1fd2-122b-4461-b5f4-4477d70ab94b",
   "metadata": {},
   "outputs": [],
   "source": [
    "backup = wip_df"
   ]
  },
  {
   "cell_type": "code",
   "execution_count": 418,
   "id": "c09bc748-5a88-41d7-8d24-a29c7c4ae371",
   "metadata": {},
   "outputs": [
    {
     "name": "stdout",
     "output_type": "stream",
     "text": [
      "21.Mar 2025 18:00:28\n"
     ]
    }
   ],
   "source": [
    "print(datetime.datetime.now().strftime(\"%d.%b %Y %H:%M:%S\"))"
   ]
  },
  {
   "cell_type": "code",
   "execution_count": 420,
   "id": "2bce2583-48c4-4948-8b21-8c1145d12c0c",
   "metadata": {
    "editable": true,
    "slideshow": {
     "slide_type": ""
    },
    "tags": []
   },
   "outputs": [],
   "source": [
    "\n",
    "\n",
    "#for row in wip_df[(wip_df['informative'] == 1) & (wip_df['heuristic'].isnull()) ].itertuples(index=True, name='Row'):\n",
    "for row in wip_df[(wip_df['informative'] == 1) ].itertuples(index=True, name='Row'):\n",
    "    vect1 = vectorizer.transform([str(row.clean_sentence)])\n",
    "    #print(wip_df[(wip_df['informative'] == 1) & (wip_df['heuristic'].isnull()) ].loc[row.Index, 'heuristic'])\n",
    "    #print(br_knn.predict(vect1))\n",
    "    #print(mlb.inverse_transform(br_knn.predict(vect1)))\n",
    "    #print(row.Index)\n",
    "    wip_df['heuristic'][row.Index] = mlb.inverse_transform(br_knn.predict(vect1))\n",
    "    \n",
    "\n",
    "\n"
   ]
  },
  {
   "cell_type": "code",
   "execution_count": 422,
   "id": "6347086a-6bcb-4865-90c3-d94fd52263c9",
   "metadata": {
    "editable": true,
    "slideshow": {
     "slide_type": ""
    },
    "tags": []
   },
   "outputs": [
    {
     "name": "stdout",
     "output_type": "stream",
     "text": [
      "21.Mar 2025 18:33:03\n"
     ]
    }
   ],
   "source": [
    "print(datetime.datetime.now().strftime(\"%d.%b %Y %H:%M:%S\"))"
   ]
  },
  {
   "cell_type": "code",
   "execution_count": 426,
   "id": "f7199655-6886-4422-abe5-44e0c1b92f1d",
   "metadata": {
    "editable": true,
    "slideshow": {
     "slide_type": ""
    },
    "tags": []
   },
   "outputs": [
    {
     "data": {
      "text/plain": [
       "heuristic\n",
       "[()]      105738\n",
       "[(G,)]     96809\n",
       "[(F,)]     32608\n",
       "[(U,)]     13806\n",
       "Name: count, dtype: int64"
      ]
     },
     "execution_count": 426,
     "metadata": {},
     "output_type": "execute_result"
    }
   ],
   "source": [
    "wip_df['heuristic'].value_counts()"
   ]
  },
  {
   "cell_type": "code",
   "execution_count": 428,
   "id": "0ae10523-9957-495f-b8df-36635e5becfc",
   "metadata": {},
   "outputs": [
    {
     "data": {
      "text/plain": [
       "informative\n",
       "0.0    274687\n",
       "1.0    248961\n",
       "Name: count, dtype: int64"
      ]
     },
     "execution_count": 428,
     "metadata": {},
     "output_type": "execute_result"
    }
   ],
   "source": [
    "wip_df['informative'].value_counts()"
   ]
  },
  {
   "cell_type": "code",
   "execution_count": 430,
   "id": "10cbd04d-0edd-4e23-a9e0-5f5134c3ff30",
   "metadata": {},
   "outputs": [
    {
     "data": {
      "text/plain": [
       "array(['F', 'G', 'U'], dtype=object)"
      ]
     },
     "execution_count": 430,
     "metadata": {},
     "output_type": "execute_result"
    }
   ],
   "source": [
    "mlb.classes_"
   ]
  },
  {
   "cell_type": "code",
   "execution_count": 432,
   "id": "053aa8f8-8337-4461-829d-75e37176c4b4",
   "metadata": {},
   "outputs": [
    {
     "data": {
      "text/plain": [
       "heuristic\n",
       "[()]      105738\n",
       "[(G,)]     96809\n",
       "[(F,)]     32608\n",
       "[(U,)]     13806\n",
       "Name: count, dtype: int64"
      ]
     },
     "execution_count": 432,
     "metadata": {},
     "output_type": "execute_result"
    }
   ],
   "source": [
    "wip_df['heuristic'].value_counts()"
   ]
  },
  {
   "cell_type": "code",
   "execution_count": 434,
   "id": "c28c0c8f-bbaf-4e7d-ab2a-d4889c5a0bda",
   "metadata": {},
   "outputs": [],
   "source": [
    "# making boolean series for a team name\n",
    "#g_filter = 'G' in  wip_df['heuristic']\n",
    "\n",
    "tuple_df = wip_df[wip_df['heuristic'].apply(lambda x: isinstance(x, list))]\n",
    "\n",
    "g_set = tuple_df[tuple_df['heuristic'].apply(lambda x: 'G' in x[0])]\n",
    "u_set = tuple_df[tuple_df['heuristic'].apply(lambda x: 'U' in x[0])]\n",
    "f_set = tuple_df[tuple_df['heuristic'].apply(lambda x: 'F' in x[0])]\n",
    "\n",
    "#g_set['heuristic'].value_counts()\n",
    "\n",
    "# filtering data\n",
    "#g_set = wip_df.where(g_filter)\n",
    "\n"
   ]
  },
  {
   "cell_type": "code",
   "execution_count": 436,
   "id": "c1212f22-0ff7-4750-b87e-f5beefc5b718",
   "metadata": {},
   "outputs": [
    {
     "data": {
      "text/plain": [
       "heuristic\n",
       "[(G,)]    96809\n",
       "Name: count, dtype: int64"
      ]
     },
     "execution_count": 436,
     "metadata": {},
     "output_type": "execute_result"
    }
   ],
   "source": [
    "g_set['heuristic'].value_counts()"
   ]
  },
  {
   "cell_type": "code",
   "execution_count": 463,
   "id": "f550cf7c-8568-43b8-9e22-824779261168",
   "metadata": {},
   "outputs": [
    {
     "data": {
      "text/html": [
       "<div>\n",
       "<style scoped>\n",
       "    .dataframe tbody tr th:only-of-type {\n",
       "        vertical-align: middle;\n",
       "    }\n",
       "\n",
       "    .dataframe tbody tr th {\n",
       "        vertical-align: top;\n",
       "    }\n",
       "\n",
       "    .dataframe thead th {\n",
       "        text-align: right;\n",
       "    }\n",
       "</style>\n",
       "<table border=\"1\" class=\"dataframe\">\n",
       "  <thead>\n",
       "    <tr style=\"text-align: right;\">\n",
       "      <th></th>\n",
       "      <th>recommendationid</th>\n",
       "      <th>clean_sentence</th>\n",
       "      <th>tokenized_sentence</th>\n",
       "      <th>voted_up</th>\n",
       "      <th>order</th>\n",
       "      <th>informative</th>\n",
       "      <th>heuristic</th>\n",
       "    </tr>\n",
       "  </thead>\n",
       "  <tbody>\n",
       "    <tr>\n",
       "      <th>523550</th>\n",
       "      <td>70409796</td>\n",
       "      <td>like flying around ship exploring</td>\n",
       "      <td>do you like just flying around in your ship an...</td>\n",
       "      <td>1</td>\n",
       "      <td>6</td>\n",
       "      <td>1.0</td>\n",
       "      <td>[(G,)]</td>\n",
       "    </tr>\n",
       "    <tr>\n",
       "      <th>523568</th>\n",
       "      <td>70410353</td>\n",
       "      <td>game keeps setting waypoint middle empty space...</td>\n",
       "      <td>the game keeps setting a waypoint in the middl...</td>\n",
       "      <td>1</td>\n",
       "      <td>6</td>\n",
       "      <td>1.0</td>\n",
       "      <td>[(G,)]</td>\n",
       "    </tr>\n",
       "    <tr>\n",
       "      <th>523584</th>\n",
       "      <td>70412310</td>\n",
       "      <td>scratched itches astroneer elite dangerous wel...</td>\n",
       "      <td>it scratched the itches that astroneer and eli...</td>\n",
       "      <td>1</td>\n",
       "      <td>3</td>\n",
       "      <td>1.0</td>\n",
       "      <td>[(G,)]</td>\n",
       "    </tr>\n",
       "    <tr>\n",
       "      <th>523586</th>\n",
       "      <td>70414573</td>\n",
       "      <td>everything</td>\n",
       "      <td>everything</td>\n",
       "      <td>1</td>\n",
       "      <td>0</td>\n",
       "      <td>1.0</td>\n",
       "      <td>[(G,)]</td>\n",
       "    </tr>\n",
       "    <tr>\n",
       "      <th>523591</th>\n",
       "      <td>70416173</td>\n",
       "      <td>space cool</td>\n",
       "      <td>space is cool</td>\n",
       "      <td>1</td>\n",
       "      <td>0</td>\n",
       "      <td>1.0</td>\n",
       "      <td>[(G,)]</td>\n",
       "    </tr>\n",
       "    <tr>\n",
       "      <th>523595</th>\n",
       "      <td>70416758</td>\n",
       "      <td>fun game exploring building must also add work...</td>\n",
       "      <td>fun game for exploring building i must also ad...</td>\n",
       "      <td>1</td>\n",
       "      <td>0</td>\n",
       "      <td>1.0</td>\n",
       "      <td>[(G,)]</td>\n",
       "    </tr>\n",
       "    <tr>\n",
       "      <th>523599</th>\n",
       "      <td>70418574</td>\n",
       "      <td>main story line utterly depressing uninstalled...</td>\n",
       "      <td>the main story line was so utterly depressing ...</td>\n",
       "      <td>0</td>\n",
       "      <td>0</td>\n",
       "      <td>1.0</td>\n",
       "      <td>[(G,)]</td>\n",
       "    </tr>\n",
       "    <tr>\n",
       "      <th>523600</th>\n",
       "      <td>70418574</td>\n",
       "      <td>main story ruined would otherwise wonderful ex...</td>\n",
       "      <td>the main story ruined what would have otherwis...</td>\n",
       "      <td>0</td>\n",
       "      <td>1</td>\n",
       "      <td>1.0</td>\n",
       "      <td>[(G,)]</td>\n",
       "    </tr>\n",
       "    <tr>\n",
       "      <th>523609</th>\n",
       "      <td>70425032</td>\n",
       "      <td>want commander fleet explore space exotic plan...</td>\n",
       "      <td>you want to be the commander of a fleet go for...</td>\n",
       "      <td>1</td>\n",
       "      <td>1</td>\n",
       "      <td>1.0</td>\n",
       "      <td>[(G,)]</td>\n",
       "    </tr>\n",
       "    <tr>\n",
       "      <th>523615</th>\n",
       "      <td>70425169</td>\n",
       "      <td>looking forward playing exploring</td>\n",
       "      <td>looking forward to playing and exploring more</td>\n",
       "      <td>1</td>\n",
       "      <td>4</td>\n",
       "      <td>1.0</td>\n",
       "      <td>[(G,)]</td>\n",
       "    </tr>\n",
       "    <tr>\n",
       "      <th>523619</th>\n",
       "      <td>70425814</td>\n",
       "      <td>deeper space less asteroids</td>\n",
       "      <td>the deeper into space you go the less asteroid...</td>\n",
       "      <td>1</td>\n",
       "      <td>3</td>\n",
       "      <td>1.0</td>\n",
       "      <td>[(G,)]</td>\n",
       "    </tr>\n",
       "    <tr>\n",
       "      <th>523622</th>\n",
       "      <td>70425814</td>\n",
       "      <td>weird stuff gives dejavu</td>\n",
       "      <td>just weird stuff that gives you dejavu</td>\n",
       "      <td>1</td>\n",
       "      <td>6</td>\n",
       "      <td>1.0</td>\n",
       "      <td>[(G,)]</td>\n",
       "    </tr>\n",
       "    <tr>\n",
       "      <th>523623</th>\n",
       "      <td>70425814</td>\n",
       "      <td>cest tres confusing</td>\n",
       "      <td>cest tres confusing</td>\n",
       "      <td>1</td>\n",
       "      <td>7</td>\n",
       "      <td>1.0</td>\n",
       "      <td>[(G,)]</td>\n",
       "    </tr>\n",
       "    <tr>\n",
       "      <th>523624</th>\n",
       "      <td>70425814</td>\n",
       "      <td>idea materials gon important theres enough roo...</td>\n",
       "      <td>i have no idea what materials are gon na be im...</td>\n",
       "      <td>1</td>\n",
       "      <td>8</td>\n",
       "      <td>1.0</td>\n",
       "      <td>[(G,)]</td>\n",
       "    </tr>\n",
       "    <tr>\n",
       "      <th>523632</th>\n",
       "      <td>70425814</td>\n",
       "      <td>plenty aliens species interact people space st...</td>\n",
       "      <td>there are plenty of aliens and species and all...</td>\n",
       "      <td>1</td>\n",
       "      <td>16</td>\n",
       "      <td>1.0</td>\n",
       "      <td>[(G,)]</td>\n",
       "    </tr>\n",
       "    <tr>\n",
       "      <th>523637</th>\n",
       "      <td>70425814</td>\n",
       "      <td>trying rich possible huge fleet frigates ships...</td>\n",
       "      <td>for me i am just trying to be as rich as possi...</td>\n",
       "      <td>1</td>\n",
       "      <td>21</td>\n",
       "      <td>1.0</td>\n",
       "      <td>[(G,)]</td>\n",
       "    </tr>\n",
       "    <tr>\n",
       "      <th>523639</th>\n",
       "      <td>70425814</td>\n",
       "      <td>like elite dangerous super easy baby mode lot ...</td>\n",
       "      <td>its like elite dangerous on super easy baby mo...</td>\n",
       "      <td>1</td>\n",
       "      <td>23</td>\n",
       "      <td>1.0</td>\n",
       "      <td>[(G,)]</td>\n",
       "    </tr>\n",
       "    <tr>\n",
       "      <th>523640</th>\n",
       "      <td>70426209</td>\n",
       "      <td>game random gen presets</td>\n",
       "      <td>game is k random gen from presets</td>\n",
       "      <td>1</td>\n",
       "      <td>0</td>\n",
       "      <td>1.0</td>\n",
       "      <td>[(G,)]</td>\n",
       "    </tr>\n",
       "    <tr>\n",
       "      <th>523641</th>\n",
       "      <td>70426209</td>\n",
       "      <td>voice acting</td>\n",
       "      <td>no voice acting</td>\n",
       "      <td>1</td>\n",
       "      <td>1</td>\n",
       "      <td>1.0</td>\n",
       "      <td>[(G,)]</td>\n",
       "    </tr>\n",
       "    <tr>\n",
       "      <th>523645</th>\n",
       "      <td>70427607</td>\n",
       "      <td>bit survival fps space sim trading farming bas...</td>\n",
       "      <td>a bit of survival fps space sim trading farmin...</td>\n",
       "      <td>1</td>\n",
       "      <td>1</td>\n",
       "      <td>1.0</td>\n",
       "      <td>[(G,)]</td>\n",
       "    </tr>\n",
       "  </tbody>\n",
       "</table>\n",
       "</div>"
      ],
      "text/plain": [
       "        recommendationid                                     clean_sentence  \\\n",
       "523550          70409796                  like flying around ship exploring   \n",
       "523568          70410353  game keeps setting waypoint middle empty space...   \n",
       "523584          70412310  scratched itches astroneer elite dangerous wel...   \n",
       "523586          70414573                                         everything   \n",
       "523591          70416173                                         space cool   \n",
       "523595          70416758  fun game exploring building must also add work...   \n",
       "523599          70418574  main story line utterly depressing uninstalled...   \n",
       "523600          70418574  main story ruined would otherwise wonderful ex...   \n",
       "523609          70425032  want commander fleet explore space exotic plan...   \n",
       "523615          70425169                  looking forward playing exploring   \n",
       "523619          70425814                        deeper space less asteroids   \n",
       "523622          70425814                           weird stuff gives dejavu   \n",
       "523623          70425814                                cest tres confusing   \n",
       "523624          70425814  idea materials gon important theres enough roo...   \n",
       "523632          70425814  plenty aliens species interact people space st...   \n",
       "523637          70425814  trying rich possible huge fleet frigates ships...   \n",
       "523639          70425814  like elite dangerous super easy baby mode lot ...   \n",
       "523640          70426209                            game random gen presets   \n",
       "523641          70426209                                       voice acting   \n",
       "523645          70427607  bit survival fps space sim trading farming bas...   \n",
       "\n",
       "                                       tokenized_sentence  voted_up  order  \\\n",
       "523550  do you like just flying around in your ship an...         1      6   \n",
       "523568  the game keeps setting a waypoint in the middl...         1      6   \n",
       "523584  it scratched the itches that astroneer and eli...         1      3   \n",
       "523586                                         everything         1      0   \n",
       "523591                                      space is cool         1      0   \n",
       "523595  fun game for exploring building i must also ad...         1      0   \n",
       "523599  the main story line was so utterly depressing ...         0      0   \n",
       "523600  the main story ruined what would have otherwis...         0      1   \n",
       "523609  you want to be the commander of a fleet go for...         1      1   \n",
       "523615      looking forward to playing and exploring more         1      4   \n",
       "523619  the deeper into space you go the less asteroid...         1      3   \n",
       "523622             just weird stuff that gives you dejavu         1      6   \n",
       "523623                                cest tres confusing         1      7   \n",
       "523624  i have no idea what materials are gon na be im...         1      8   \n",
       "523632  there are plenty of aliens and species and all...         1     16   \n",
       "523637  for me i am just trying to be as rich as possi...         1     21   \n",
       "523639  its like elite dangerous on super easy baby mo...         1     23   \n",
       "523640                  game is k random gen from presets         1      0   \n",
       "523641                                    no voice acting         1      1   \n",
       "523645  a bit of survival fps space sim trading farmin...         1      1   \n",
       "\n",
       "        informative heuristic  \n",
       "523550          1.0    [(G,)]  \n",
       "523568          1.0    [(G,)]  \n",
       "523584          1.0    [(G,)]  \n",
       "523586          1.0    [(G,)]  \n",
       "523591          1.0    [(G,)]  \n",
       "523595          1.0    [(G,)]  \n",
       "523599          1.0    [(G,)]  \n",
       "523600          1.0    [(G,)]  \n",
       "523609          1.0    [(G,)]  \n",
       "523615          1.0    [(G,)]  \n",
       "523619          1.0    [(G,)]  \n",
       "523622          1.0    [(G,)]  \n",
       "523623          1.0    [(G,)]  \n",
       "523624          1.0    [(G,)]  \n",
       "523632          1.0    [(G,)]  \n",
       "523637          1.0    [(G,)]  \n",
       "523639          1.0    [(G,)]  \n",
       "523640          1.0    [(G,)]  \n",
       "523641          1.0    [(G,)]  \n",
       "523645          1.0    [(G,)]  "
      ]
     },
     "execution_count": 463,
     "metadata": {},
     "output_type": "execute_result"
    }
   ],
   "source": [
    "g_set.tail(20)"
   ]
  },
  {
   "cell_type": "code",
   "execution_count": 438,
   "id": "647a766d-51d4-4641-936d-a4d431520052",
   "metadata": {},
   "outputs": [
    {
     "data": {
      "text/plain": [
       "heuristic\n",
       "[(U,)]    13806\n",
       "Name: count, dtype: int64"
      ]
     },
     "execution_count": 438,
     "metadata": {},
     "output_type": "execute_result"
    }
   ],
   "source": [
    "u_set['heuristic'].value_counts()"
   ]
  },
  {
   "cell_type": "code",
   "execution_count": 440,
   "id": "e743c5b0-2e76-47a5-873d-11572099eabf",
   "metadata": {},
   "outputs": [
    {
     "data": {
      "text/plain": [
       "heuristic\n",
       "[(F,)]    32608\n",
       "Name: count, dtype: int64"
      ]
     },
     "execution_count": 440,
     "metadata": {},
     "output_type": "execute_result"
    }
   ],
   "source": [
    "f_set['heuristic'].value_counts()"
   ]
  },
  {
   "cell_type": "code",
   "execution_count": 465,
   "id": "3d077998-c1fc-42e9-a304-6da472973023",
   "metadata": {
    "editable": true,
    "slideshow": {
     "slide_type": ""
    },
    "tags": []
   },
   "outputs": [],
   "source": [
    "g_set.to_csv('./datasets/__sprint2_filtered_gameplay_review_set.csv')\n",
    "f_set.to_csv('./datasets/__sprint2_filtered_functionality_review_set.csv')\n",
    "u_set.to_csv('./datasets/__sprint2_filtered_usability_review_set.csv')"
   ]
  },
  {
   "cell_type": "code",
   "execution_count": 466,
   "id": "62ca6037-78cf-467e-9908-e2a1003132b7",
   "metadata": {
    "editable": true,
    "slideshow": {
     "slide_type": ""
    },
    "tags": []
   },
   "outputs": [
    {
     "data": {
      "text/html": [
       "<div>\n",
       "<style scoped>\n",
       "    .dataframe tbody tr th:only-of-type {\n",
       "        vertical-align: middle;\n",
       "    }\n",
       "\n",
       "    .dataframe tbody tr th {\n",
       "        vertical-align: top;\n",
       "    }\n",
       "\n",
       "    .dataframe thead th {\n",
       "        text-align: right;\n",
       "    }\n",
       "</style>\n",
       "<table border=\"1\" class=\"dataframe\">\n",
       "  <thead>\n",
       "    <tr style=\"text-align: right;\">\n",
       "      <th></th>\n",
       "      <th>recommendationid</th>\n",
       "      <th>clean_sentence</th>\n",
       "      <th>tokenized_sentence</th>\n",
       "      <th>voted_up</th>\n",
       "      <th>order</th>\n",
       "      <th>informative</th>\n",
       "      <th>heuristic</th>\n",
       "    </tr>\n",
       "  </thead>\n",
       "  <tbody>\n",
       "    <tr>\n",
       "      <th>0</th>\n",
       "      <td>24845425</td>\n",
       "      <td>yeah gr8 db8 ir8 st8 hey apreci8 gr8 wan mayb ...</td>\n",
       "      <td>yeah m8 this is gr8 no db8 i r8 it an 8 i h8 2...</td>\n",
       "      <td>1</td>\n",
       "      <td>0</td>\n",
       "      <td>0.0</td>\n",
       "      <td>NaN</td>\n",
       "    </tr>\n",
       "    <tr>\n",
       "      <th>1</th>\n",
       "      <td>24845425</td>\n",
       "      <td>rel8 str8 appreci8 congratul8</td>\n",
       "      <td>i rel8 str8 appreci8 and congratul8</td>\n",
       "      <td>1</td>\n",
       "      <td>1</td>\n",
       "      <td>0.0</td>\n",
       "      <td>NaN</td>\n",
       "    </tr>\n",
       "    <tr>\n",
       "      <th>2</th>\n",
       "      <td>24845425</td>\n",
       "      <td>NaN</td>\n",
       "      <td>i r8 this b8 an 88</td>\n",
       "      <td>1</td>\n",
       "      <td>2</td>\n",
       "      <td>0.0</td>\n",
       "      <td>NaN</td>\n",
       "    </tr>\n",
       "    <tr>\n",
       "      <th>3</th>\n",
       "      <td>24845425</td>\n",
       "      <td>plz str8 ir8</td>\n",
       "      <td>plz no h8 im str8 ir8</td>\n",
       "      <td>1</td>\n",
       "      <td>3</td>\n",
       "      <td>0.0</td>\n",
       "      <td>NaN</td>\n",
       "    </tr>\n",
       "    <tr>\n",
       "      <th>4</th>\n",
       "      <td>24845425</td>\n",
       "      <td>cre8 cant</td>\n",
       "      <td>cre8 more cant w8</td>\n",
       "      <td>1</td>\n",
       "      <td>4</td>\n",
       "      <td>1.0</td>\n",
       "      <td>[()]</td>\n",
       "    </tr>\n",
       "    <tr>\n",
       "      <th>5</th>\n",
       "      <td>24845425</td>\n",
       "      <td>convers8 wont ber8 number 8888888 ask</td>\n",
       "      <td>we should convers8 i wont ber8 my number is 88...</td>\n",
       "      <td>1</td>\n",
       "      <td>5</td>\n",
       "      <td>0.0</td>\n",
       "      <td>NaN</td>\n",
       "    </tr>\n",
       "    <tr>\n",
       "      <th>6</th>\n",
       "      <td>24845425</td>\n",
       "      <td>calls st8</td>\n",
       "      <td>no calls l8 or out of st8</td>\n",
       "      <td>1</td>\n",
       "      <td>6</td>\n",
       "      <td>0.0</td>\n",
       "      <td>NaN</td>\n",
       "    </tr>\n",
       "    <tr>\n",
       "      <th>7</th>\n",
       "      <td>24845425</td>\n",
       "      <td>ask loc8</td>\n",
       "      <td>if on a d8 ask k8 to loc8</td>\n",
       "      <td>1</td>\n",
       "      <td>7</td>\n",
       "      <td>0.0</td>\n",
       "      <td>NaN</td>\n",
       "    </tr>\n",
       "    <tr>\n",
       "      <th>8</th>\n",
       "      <td>24845425</td>\n",
       "      <td>even full pl8 always time communic8 dont hesit8</td>\n",
       "      <td>even with a full pl8 i always have time to com...</td>\n",
       "      <td>1</td>\n",
       "      <td>8</td>\n",
       "      <td>1.0</td>\n",
       "      <td>[()]</td>\n",
       "    </tr>\n",
       "    <tr>\n",
       "      <th>9</th>\n",
       "      <td>24845428</td>\n",
       "      <td>pretty good tbh edit pretty good fuck sean lyi...</td>\n",
       "      <td>its pretty good tbh edit its pretty good but f...</td>\n",
       "      <td>0</td>\n",
       "      <td>0</td>\n",
       "      <td>0.0</td>\n",
       "      <td>NaN</td>\n",
       "    </tr>\n",
       "    <tr>\n",
       "      <th>10</th>\n",
       "      <td>24845437</td>\n",
       "      <td>1st public review</td>\n",
       "      <td>1st public review</td>\n",
       "      <td>1</td>\n",
       "      <td>0</td>\n",
       "      <td>0.0</td>\n",
       "      <td>NaN</td>\n",
       "    </tr>\n",
       "    <tr>\n",
       "      <th>11</th>\n",
       "      <td>24845437</td>\n",
       "      <td>edit quick tips left click enter menus right c...</td>\n",
       "      <td>edit quick tips left click to enter menus righ...</td>\n",
       "      <td>1</td>\n",
       "      <td>1</td>\n",
       "      <td>1.0</td>\n",
       "      <td>[()]</td>\n",
       "    </tr>\n",
       "    <tr>\n",
       "      <th>12</th>\n",
       "      <td>24845437</td>\n",
       "      <td>press craft item inventory menu took like minu...</td>\n",
       "      <td>press e to craft an item while in the inventor...</td>\n",
       "      <td>1</td>\n",
       "      <td>2</td>\n",
       "      <td>1.0</td>\n",
       "      <td>[(U,)]</td>\n",
       "    </tr>\n",
       "    <tr>\n",
       "      <th>13</th>\n",
       "      <td>24845437</td>\n",
       "      <td>issues running game getting fps options turn c...</td>\n",
       "      <td>ok for those having issues running the game an...</td>\n",
       "      <td>1</td>\n",
       "      <td>3</td>\n",
       "      <td>1.0</td>\n",
       "      <td>[(F,)]</td>\n",
       "    </tr>\n",
       "    <tr>\n",
       "      <th>14</th>\n",
       "      <td>24845437</td>\n",
       "      <td>defaults</td>\n",
       "      <td>it defaults to 30</td>\n",
       "      <td>1</td>\n",
       "      <td>4</td>\n",
       "      <td>1.0</td>\n",
       "      <td>[(G,)]</td>\n",
       "    </tr>\n",
       "    <tr>\n",
       "      <th>15</th>\n",
       "      <td>24845437</td>\n",
       "      <td>also turn vsync want higher fps</td>\n",
       "      <td>also turn off vsync if you want higher than 60...</td>\n",
       "      <td>1</td>\n",
       "      <td>5</td>\n",
       "      <td>1.0</td>\n",
       "      <td>[(F,)]</td>\n",
       "    </tr>\n",
       "    <tr>\n",
       "      <th>16</th>\n",
       "      <td>24845437</td>\n",
       "      <td>game runs really smooth</td>\n",
       "      <td>after i did that the game runs really smooth f...</td>\n",
       "      <td>1</td>\n",
       "      <td>6</td>\n",
       "      <td>1.0</td>\n",
       "      <td>[(F,)]</td>\n",
       "    </tr>\n",
       "    <tr>\n",
       "      <th>17</th>\n",
       "      <td>24845437</td>\n",
       "      <td>game great buy</td>\n",
       "      <td>the game is a great buy</td>\n",
       "      <td>1</td>\n",
       "      <td>7</td>\n",
       "      <td>0.0</td>\n",
       "      <td>NaN</td>\n",
       "    </tr>\n",
       "    <tr>\n",
       "      <th>18</th>\n",
       "      <td>24845437</td>\n",
       "      <td>many ppl rating negative havent discovered opt...</td>\n",
       "      <td>so many ppl are rating it negative just becaus...</td>\n",
       "      <td>1</td>\n",
       "      <td>8</td>\n",
       "      <td>1.0</td>\n",
       "      <td>[(F,)]</td>\n",
       "    </tr>\n",
       "    <tr>\n",
       "      <th>19</th>\n",
       "      <td>24845437</td>\n",
       "      <td>mans sky potential game might consume life</td>\n",
       "      <td>no mans sky has the potential of a game that m...</td>\n",
       "      <td>1</td>\n",
       "      <td>9</td>\n",
       "      <td>0.0</td>\n",
       "      <td>NaN</td>\n",
       "    </tr>\n",
       "  </tbody>\n",
       "</table>\n",
       "</div>"
      ],
      "text/plain": [
       "    recommendationid                                     clean_sentence  \\\n",
       "0           24845425  yeah gr8 db8 ir8 st8 hey apreci8 gr8 wan mayb ...   \n",
       "1           24845425                      rel8 str8 appreci8 congratul8   \n",
       "2           24845425                                                NaN   \n",
       "3           24845425                                       plz str8 ir8   \n",
       "4           24845425                                          cre8 cant   \n",
       "5           24845425              convers8 wont ber8 number 8888888 ask   \n",
       "6           24845425                                          calls st8   \n",
       "7           24845425                                           ask loc8   \n",
       "8           24845425    even full pl8 always time communic8 dont hesit8   \n",
       "9           24845428  pretty good tbh edit pretty good fuck sean lyi...   \n",
       "10          24845437                                  1st public review   \n",
       "11          24845437  edit quick tips left click enter menus right c...   \n",
       "12          24845437  press craft item inventory menu took like minu...   \n",
       "13          24845437  issues running game getting fps options turn c...   \n",
       "14          24845437                                           defaults   \n",
       "15          24845437                    also turn vsync want higher fps   \n",
       "16          24845437                            game runs really smooth   \n",
       "17          24845437                                     game great buy   \n",
       "18          24845437  many ppl rating negative havent discovered opt...   \n",
       "19          24845437         mans sky potential game might consume life   \n",
       "\n",
       "                                   tokenized_sentence  voted_up  order  \\\n",
       "0   yeah m8 this is gr8 no db8 i r8 it an 8 i h8 2...         1      0   \n",
       "1                 i rel8 str8 appreci8 and congratul8         1      1   \n",
       "2                                  i r8 this b8 an 88         1      2   \n",
       "3                               plz no h8 im str8 ir8         1      3   \n",
       "4                                   cre8 more cant w8         1      4   \n",
       "5   we should convers8 i wont ber8 my number is 88...         1      5   \n",
       "6                           no calls l8 or out of st8         1      6   \n",
       "7                           if on a d8 ask k8 to loc8         1      7   \n",
       "8   even with a full pl8 i always have time to com...         1      8   \n",
       "9   its pretty good tbh edit its pretty good but f...         0      0   \n",
       "10                                  1st public review         1      0   \n",
       "11  edit quick tips left click to enter menus righ...         1      1   \n",
       "12  press e to craft an item while in the inventor...         1      2   \n",
       "13  ok for those having issues running the game an...         1      3   \n",
       "14                                  it defaults to 30         1      4   \n",
       "15  also turn off vsync if you want higher than 60...         1      5   \n",
       "16  after i did that the game runs really smooth f...         1      6   \n",
       "17                            the game is a great buy         1      7   \n",
       "18  so many ppl are rating it negative just becaus...         1      8   \n",
       "19  no mans sky has the potential of a game that m...         1      9   \n",
       "\n",
       "    informative heuristic  \n",
       "0           0.0       NaN  \n",
       "1           0.0       NaN  \n",
       "2           0.0       NaN  \n",
       "3           0.0       NaN  \n",
       "4           1.0      [()]  \n",
       "5           0.0       NaN  \n",
       "6           0.0       NaN  \n",
       "7           0.0       NaN  \n",
       "8           1.0      [()]  \n",
       "9           0.0       NaN  \n",
       "10          0.0       NaN  \n",
       "11          1.0      [()]  \n",
       "12          1.0    [(U,)]  \n",
       "13          1.0    [(F,)]  \n",
       "14          1.0    [(G,)]  \n",
       "15          1.0    [(F,)]  \n",
       "16          1.0    [(F,)]  \n",
       "17          0.0       NaN  \n",
       "18          1.0    [(F,)]  \n",
       "19          0.0       NaN  "
      ]
     },
     "execution_count": 466,
     "metadata": {},
     "output_type": "execute_result"
    }
   ],
   "source": [
    "wip_df.head(20)"
   ]
  },
  {
   "cell_type": "code",
   "execution_count": 446,
   "id": "42e2a43c-1e1d-4df8-b6df-c2f517a8ce95",
   "metadata": {},
   "outputs": [],
   "source": [
    "#tuple_df.to_csv('./datasets/__sprint2_filtered_gameplay_review_setasdasdasdasd.csv')"
   ]
  },
  {
   "cell_type": "code",
   "execution_count": null,
   "id": "503bec33-2f59-47a8-b7f2-c87c12ce48ae",
   "metadata": {},
   "outputs": [],
   "source": []
  }
 ],
 "metadata": {
  "kernelspec": {
   "display_name": "Python [conda env:base] *",
   "language": "python",
   "name": "conda-base-py"
  },
  "language_info": {
   "codemirror_mode": {
    "name": "ipython",
    "version": 3
   },
   "file_extension": ".py",
   "mimetype": "text/x-python",
   "name": "python",
   "nbconvert_exporter": "python",
   "pygments_lexer": "ipython3",
   "version": "3.12.7"
  }
 },
 "nbformat": 4,
 "nbformat_minor": 5
}
