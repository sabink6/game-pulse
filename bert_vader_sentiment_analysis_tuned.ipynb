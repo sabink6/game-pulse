{
 "cells": [
  {
   "cell_type": "code",
   "execution_count": 28,
   "id": "aa02f7c0",
   "metadata": {},
   "outputs": [],
   "source": [
    "import pandas as pd\n",
    "import torch\n",
    "import re\n",
    "import nltk\n",
    "import matplotlib.pyplot as plt\n",
    "import numpy as np\n",
    "from nltk.tokenize import word_tokenize, sent_tokenize\n",
    "from nltk.corpus import stopwords\n",
    "from collections import Counter\n",
    "from transformers import AutoTokenizer, AutoModelForSequenceClassification\n",
    "from nltk.sentiment import SentimentIntensityAnalyzer\n",
    "from sklearn.metrics import accuracy_score, classification_report, confusion_matrix\n",
    "import seaborn as sns"
   ]
  },
  {
   "cell_type": "code",
   "execution_count": 29,
   "id": "d19bbe1e",
   "metadata": {},
   "outputs": [
    {
     "name": "stderr",
     "output_type": "stream",
     "text": [
      "[nltk_data] Downloading package punkt to\n",
      "[nltk_data]     C:\\Users\\ronal\\AppData\\Roaming\\nltk_data...\n",
      "[nltk_data]   Package punkt is already up-to-date!\n",
      "[nltk_data] Downloading package stopwords to\n",
      "[nltk_data]     C:\\Users\\ronal\\AppData\\Roaming\\nltk_data...\n",
      "[nltk_data]   Package stopwords is already up-to-date!\n",
      "[nltk_data] Downloading package vader_lexicon to\n",
      "[nltk_data]     C:\\Users\\ronal\\AppData\\Roaming\\nltk_data...\n",
      "[nltk_data]   Package vader_lexicon is already up-to-date!\n"
     ]
    }
   ],
   "source": [
    "# Ensure necessary NLTK resources are available\n",
    "def download_nltk_resources():\n",
    "    nltk.download('punkt')\n",
    "    nltk.download('stopwords')\n",
    "    nltk.download('vader_lexicon')\n",
    "\n",
    "download_nltk_resources()\n"
   ]
  },
  {
   "cell_type": "code",
   "execution_count": 30,
   "id": "b4fb60af",
   "metadata": {},
   "outputs": [],
   "source": [
    "# Load dataset\n",
    "file_path = \"Steam review data from previous study(in).csv\"\n",
    "df = pd.read_csv(file_path, encoding='utf-8')\n",
    "\n",
    "if 'review' not in df.columns:\n",
    "    raise ValueError(\"The dataset does not contain a 'review' column\")\n",
    "\n",
    "df = df[['recommendationid', 'review']].dropna().drop_duplicates()"
   ]
  },
  {
   "cell_type": "code",
   "execution_count": 31,
   "id": "eb29c4ed",
   "metadata": {},
   "outputs": [],
   "source": [
    "# Define stopwords and negations\n",
    "stop_words = set(stopwords.words('english'))\n",
    "negations = {\"not\", \"never\", \"none\", \"no\", \"don't\", \"haven't\", \"isn't\"}\n",
    "stop_words = stop_words - negations  # Keep negations"
   ]
  },
  {
   "cell_type": "code",
   "execution_count": 32,
   "id": "b7aac52b",
   "metadata": {},
   "outputs": [],
   "source": [
    "# Text preprocessing\n",
    "def clean_text(text, remove_stopwords=True):\n",
    "    text = re.sub(r\"[^a-zA-Z0-9\\s’']\", \"\", text.lower().strip())\n",
    "    words = word_tokenize(text)\n",
    "    if remove_stopwords:\n",
    "        words = [word for word in words if word not in stop_words or word in negations]\n",
    "    return \" \".join(words)"
   ]
  },
  {
   "cell_type": "code",
   "execution_count": 33,
   "id": "fcfa85d5",
   "metadata": {},
   "outputs": [],
   "source": [
    "# Process reviews\n",
    "def split_into_sentences(row):\n",
    "    sentences = [s for s in sent_tokenize(str(row['review'])) if re.search(r\"[a-zA-Z0-9]\", s)]\n",
    "    return [{\"recommendationid\": row[\"recommendationid\"],\n",
    "             \"sentence_with_stopwords\": clean_text(s, False),\n",
    "             \"sentence_without_stopwords\": clean_text(s)} for s in sentences]\n",
    "\n",
    "df_sentences = pd.DataFrame([entry for _, row in df.iterrows() for entry in split_into_sentences(row)]).drop_duplicates()\n"
   ]
  },
  {
   "cell_type": "code",
   "execution_count": 34,
   "id": "ed7a1705",
   "metadata": {},
   "outputs": [],
   "source": [
    "# Sentiment analysis setup\n",
    "sia = SentimentIntensityAnalyzer()"
   ]
  },
  {
   "cell_type": "code",
   "execution_count": 35,
   "id": "ee7e52bb",
   "metadata": {},
   "outputs": [],
   "source": [
    "# Load BERT model for sentiment analysis\n",
    "device = torch.device(\"cuda\" if torch.cuda.is_available() else \"cpu\")\n",
    "model_name = \"nlptown/bert-base-multilingual-uncased-sentiment\"\n",
    "tokenizer = AutoTokenizer.from_pretrained(model_name)\n",
    "model = AutoModelForSequenceClassification.from_pretrained(model_name).to(device)"
   ]
  },
  {
   "cell_type": "code",
   "execution_count": 36,
   "id": "050021d7",
   "metadata": {},
   "outputs": [],
   "source": [
    "def get_vader_sentiment(text):\n",
    "    scores = sia.polarity_scores(text)\n",
    "    return 1 if scores['compound'] >= 0 else 0\n",
    "\n",
    "def get_bert_sentiment(text):\n",
    "    inputs = tokenizer(text, return_tensors=\"pt\", truncation=True, padding=True).to(device)\n",
    "    outputs = model(**inputs)\n",
    "    scores = outputs.logits.softmax(dim=1).cpu().detach().numpy()[0]\n",
    "    return 1 if np.argmax(scores) > 2 else 0\n",
    "\n",
    "df_sentences['vader_sentiment'] = df_sentences['sentence_with_stopwords'].apply(get_vader_sentiment)\n",
    "df_sentences['bert_sentiment'] = df_sentences['sentence_with_stopwords'].apply(get_bert_sentiment)\n",
    "df_sentences['combined_sentiment'] = (df_sentences['vader_sentiment'] + df_sentences['bert_sentiment']) / 2\n",
    "\n",
    "def final_sentiment(value):\n",
    "    return 1 if value > 0.5 else 0\n",
    "\n",
    "df_sentences['final_sentiment'] = df_sentences['combined_sentiment'].apply(final_sentiment)"
   ]
  },
  {
   "cell_type": "code",
   "execution_count": 37,
   "id": "f2faa851",
   "metadata": {},
   "outputs": [
    {
     "name": "stdout",
     "output_type": "stream",
     "text": [
      "Model Accuracy: 0.7142857142857143\n",
      "Classification Report:\n",
      "               precision    recall  f1-score   support\n",
      "\n",
      "           0       0.40      1.00      0.57       601\n",
      "           1       1.00      0.65      0.79      2612\n",
      "\n",
      "    accuracy                           0.71      3213\n",
      "   macro avg       0.70      0.82      0.68      3213\n",
      "weighted avg       0.89      0.71      0.75      3213\n",
      "\n"
     ]
    },
    {
     "data": {
      "image/png": "[encoded data removed]",
      "text/plain": [
       "<Figure size 640x480 with 2 Axes>"
      ]
     },
     "metadata": {},
     "output_type": "display_data"
    }
   ],
   "source": [
    "# Evaluation\n",
    "true_labels = df_sentences['vader_sentiment'].tolist()\n",
    "pred_labels = df_sentences['final_sentiment'].tolist()\n",
    "\n",
    "print(\"Model Accuracy:\", accuracy_score(true_labels, pred_labels))\n",
    "print(\"Classification Report:\\n\", classification_report(true_labels, pred_labels))\n",
    "\n",
    "# Confusion Matrix\n",
    "cm = confusion_matrix(true_labels, pred_labels)\n",
    "sns.heatmap(cm, annot=True, fmt='d', cmap='Blues', xticklabels=['Negative', 'Positive'], yticklabels=['Negative', 'Positive'])\n",
    "plt.xlabel(\"Predicted\")\n",
    "plt.ylabel(\"Actual\")\n",
    "plt.title(\"Confusion Matrix\")\n",
    "plt.show()"
   ]
  },
  {
   "cell_type": "code",
   "execution_count": null,
   "id": "15898422",
   "metadata": {},
   "outputs": [],
   "source": []
  }
 ],
 "metadata": {
  "kernelspec": {
   "display_name": "Python 3 (ipykernel)",
   "language": "python",
   "name": "python3"
  },
  "language_info": {
   "codemirror_mode": {
    "name": "ipython",
    "version": 3
   },
   "file_extension": ".py",
   "mimetype": "text/x-python",
   "name": "python",
   "nbconvert_exporter": "python",
   "pygments_lexer": "ipython3",
   "version": "3.11.7"
  }
 },
 "nbformat": 4,
 "nbformat_minor": 5
}
